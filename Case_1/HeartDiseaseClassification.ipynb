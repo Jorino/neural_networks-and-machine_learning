{
 "cells": [
  {
   "cell_type": "markdown",
   "metadata": {
    "colab_type": "text",
    "id": "fnxw_mIyqx34"
   },
   "source": [
    "# Case 1 - Heart Disease Classification\n",
    "Neural Networks for Health Technology Applications<br>\n",
    "Jori Nordlund, Mikko Iivarinen, Mikko Puustinen<br>\n",
    "Helsinki Metropolia University of Applied sciences<br>\n",
    "01.02.2020"
   ]
  },
  {
   "cell_type": "markdown",
   "metadata": {
    "colab_type": "text",
    "id": "d9d-oF2GuwkA"
   },
   "source": [
    "<h2>Background</h2>\n",
    "<p>This document's purpose is to try and find a fast and efficient way to produce a neural network that can accurately say if a person has a heart disease based on data given to the network.<br><br>\n",
    "Document includes the code for data processing and producing the neural network using Python 3 with Tensorflow and basic libraries.<br><br>\n",
    "</p>"
   ]
  },
  {
   "cell_type": "code",
   "execution_count": 1,
   "metadata": {
    "colab": {
     "base_uri": "https://localhost:8080/",
     "height": 79
    },
    "colab_type": "code",
    "id": "gQdzbiLXpJrM",
    "outputId": "21a33c12-aa5a-4052-fa37-8bc08f57b8fd"
   },
   "outputs": [
    {
     "name": "stdout",
     "output_type": "stream",
     "text": [
      "Populating the interactive namespace from numpy and matplotlib\n"
     ]
    },
    {
     "data": {
      "text/html": [
       "<p style=\"color: red;\">\n",
       "The default version of TensorFlow in Colab will soon switch to TensorFlow 2.x.<br>\n",
       "We recommend you <a href=\"https://www.tensorflow.org/guide/migrate\" target=\"_blank\">upgrade</a> now \n",
       "or ensure your notebook will continue to use TensorFlow 1.x via the <code>%tensorflow_version 1.x</code> magic:\n",
       "<a href=\"https://colab.research.google.com/notebooks/tensorflow_version.ipynb\" target=\"_blank\">more info</a>.</p>\n"
      ],
      "text/plain": [
       "<IPython.core.display.HTML object>"
      ]
     },
     "metadata": {
      "tags": []
     },
     "output_type": "display_data"
    }
   ],
   "source": [
    "%pylab inline\n",
    "import pandas as pd\n",
    "from sklearn import preprocessing\n",
    "from tensorflow.keras.utils import to_categorical\n",
    "import tensorflow as tf\n",
    "import matplotlib.pyplot as plt"
   ]
  },
  {
   "cell_type": "markdown",
   "metadata": {
    "colab_type": "text",
    "id": "d2lS9THDrVM0"
   },
   "source": [
    "## Data\n",
    "### Basic information\n",
    "The data was collected from the\n",
    "Cleveland Clinic Foundation (cleveland.data).\n",
    "\n",
    "\n",
    "### Attributes \n",
    "Attributes used:\n",
    "1. Age (age)\n",
    "- age in years\n",
    "- numeric\n",
    "- min = 29, max = 77, mean = 54.4\n",
    "2. Sex (sex)\n",
    "- '0' = female and '1' = male\n",
    "- binary\n",
    "3. Chest pain type (cp)\n",
    "- types:\n",
    "  1. Typical angina(1)\n",
    "  2. Atypical angina(2)\n",
    "  3. Non-anginal pain(3)\n",
    "  4. Asymptomatic(4)\n",
    "- categorical \n",
    "4. Resting blood pressure (trestbps)\n",
    "- mmHg\n",
    "- numeric\n",
    "- min = 94, max = 200, mean = 131.7\n",
    "5. Serum cholestoral (chol)\n",
    "- mg/dl\n",
    "- numeric\n",
    "- min = 126, max = 564, mean = 246.7 \n",
    "6. Fasting blood sugar (fbs)\n",
    "- if fbs > 120 mg/dl value = '1' <br>else value = '0'\n",
    "- binary\n",
    "7. Resting electrocardiographic results (restecg)\n",
    "- '0' = normal \n",
    "- '1' = ST-T wave abnormality\n",
    "- '2' = showing propable or definite left ventricular hypertrophy by Estes' criteria\n",
    "- categorical\n",
    "8. Maximum heart rate achieved (thalach)\n",
    "- numeric\n",
    "- min = 71, max = 202, mean = 149.6\n",
    "9. Exercise induced angina (exang)\n",
    "- binary\n",
    "10. ST depression induced by exercise relative to rest (oldpeak)\n",
    "- numeric\n",
    "- min = 0, max = 6.2, mean = 1.0\n",
    "11. The slope of the peak exercise ST segment (slope)\n",
    "- '1' = upsloping\n",
    "- '2' = flat\n",
    "- '3' = downsloping\n",
    "- categorical\n",
    "12. Number of major vessels\n",
    "- 0 - 3 (numeric)\n",
    "- min = 0, max = 3, mean = 0.7\n",
    "13. Thallium heart scan (thal)\n",
    "- '3' = normal\n",
    "- '6' = fixed defect\n",
    "- '7' = reversable defect\n",
    "14. Diagnosis of heart disease (num)\n",
    "- '0' < 50% diameter narrowing\n",
    "- '1', '2', '3' and '4' > 50% diameter narrowing \n",
    "- categorical\n",
    "- for the sake of this assignment all the values that differ from '0' are assigned to '1'"
   ]
  },
  {
   "cell_type": "code",
   "execution_count": 2,
   "metadata": {
    "colab": {
     "base_uri": "https://localhost:8080/",
     "height": 195
    },
    "colab_type": "code",
    "id": "Ag7j_-04p8p-",
    "outputId": "67bf516b-67bf-4460-dfba-a2a1a43ec53a"
   },
   "outputs": [
    {
     "data": {
      "text/html": [
       "<div>\n",
       "<style scoped>\n",
       "    .dataframe tbody tr th:only-of-type {\n",
       "        vertical-align: middle;\n",
       "    }\n",
       "\n",
       "    .dataframe tbody tr th {\n",
       "        vertical-align: top;\n",
       "    }\n",
       "\n",
       "    .dataframe thead th {\n",
       "        text-align: right;\n",
       "    }\n",
       "</style>\n",
       "<table border=\"1\" class=\"dataframe\">\n",
       "  <thead>\n",
       "    <tr style=\"text-align: right;\">\n",
       "      <th></th>\n",
       "      <th>0</th>\n",
       "      <th>1</th>\n",
       "      <th>2</th>\n",
       "      <th>3</th>\n",
       "      <th>4</th>\n",
       "      <th>5</th>\n",
       "      <th>6</th>\n",
       "      <th>7</th>\n",
       "      <th>8</th>\n",
       "      <th>9</th>\n",
       "      <th>10</th>\n",
       "      <th>11</th>\n",
       "      <th>12</th>\n",
       "      <th>13</th>\n",
       "    </tr>\n",
       "  </thead>\n",
       "  <tbody>\n",
       "    <tr>\n",
       "      <th>298</th>\n",
       "      <td>45.0</td>\n",
       "      <td>1.0</td>\n",
       "      <td>1.0</td>\n",
       "      <td>110.0</td>\n",
       "      <td>264.0</td>\n",
       "      <td>0.0</td>\n",
       "      <td>0.0</td>\n",
       "      <td>132.0</td>\n",
       "      <td>0.0</td>\n",
       "      <td>1.2</td>\n",
       "      <td>2.0</td>\n",
       "      <td>0.0</td>\n",
       "      <td>7.0</td>\n",
       "      <td>1</td>\n",
       "    </tr>\n",
       "    <tr>\n",
       "      <th>299</th>\n",
       "      <td>68.0</td>\n",
       "      <td>1.0</td>\n",
       "      <td>4.0</td>\n",
       "      <td>144.0</td>\n",
       "      <td>193.0</td>\n",
       "      <td>1.0</td>\n",
       "      <td>0.0</td>\n",
       "      <td>141.0</td>\n",
       "      <td>0.0</td>\n",
       "      <td>3.4</td>\n",
       "      <td>2.0</td>\n",
       "      <td>2.0</td>\n",
       "      <td>7.0</td>\n",
       "      <td>1</td>\n",
       "    </tr>\n",
       "    <tr>\n",
       "      <th>300</th>\n",
       "      <td>57.0</td>\n",
       "      <td>1.0</td>\n",
       "      <td>4.0</td>\n",
       "      <td>130.0</td>\n",
       "      <td>131.0</td>\n",
       "      <td>0.0</td>\n",
       "      <td>0.0</td>\n",
       "      <td>115.0</td>\n",
       "      <td>1.0</td>\n",
       "      <td>1.2</td>\n",
       "      <td>2.0</td>\n",
       "      <td>1.0</td>\n",
       "      <td>7.0</td>\n",
       "      <td>1</td>\n",
       "    </tr>\n",
       "    <tr>\n",
       "      <th>301</th>\n",
       "      <td>57.0</td>\n",
       "      <td>0.0</td>\n",
       "      <td>2.0</td>\n",
       "      <td>130.0</td>\n",
       "      <td>236.0</td>\n",
       "      <td>0.0</td>\n",
       "      <td>2.0</td>\n",
       "      <td>174.0</td>\n",
       "      <td>0.0</td>\n",
       "      <td>0.0</td>\n",
       "      <td>2.0</td>\n",
       "      <td>1.0</td>\n",
       "      <td>3.0</td>\n",
       "      <td>1</td>\n",
       "    </tr>\n",
       "    <tr>\n",
       "      <th>302</th>\n",
       "      <td>38.0</td>\n",
       "      <td>1.0</td>\n",
       "      <td>3.0</td>\n",
       "      <td>138.0</td>\n",
       "      <td>175.0</td>\n",
       "      <td>0.0</td>\n",
       "      <td>0.0</td>\n",
       "      <td>173.0</td>\n",
       "      <td>0.0</td>\n",
       "      <td>0.0</td>\n",
       "      <td>1.0</td>\n",
       "      <td>0.0</td>\n",
       "      <td>3.0</td>\n",
       "      <td>0</td>\n",
       "    </tr>\n",
       "  </tbody>\n",
       "</table>\n",
       "</div>"
      ],
      "text/plain": [
       "       0    1    2      3      4    5    6      7    8    9    10   11   12  13\n",
       "298  45.0  1.0  1.0  110.0  264.0  0.0  0.0  132.0  0.0  1.2  2.0  0.0  7.0   1\n",
       "299  68.0  1.0  4.0  144.0  193.0  1.0  0.0  141.0  0.0  3.4  2.0  2.0  7.0   1\n",
       "300  57.0  1.0  4.0  130.0  131.0  0.0  0.0  115.0  1.0  1.2  2.0  1.0  7.0   1\n",
       "301  57.0  0.0  2.0  130.0  236.0  0.0  2.0  174.0  0.0  0.0  2.0  1.0  3.0   1\n",
       "302  38.0  1.0  3.0  138.0  175.0  0.0  0.0  173.0  0.0  0.0  1.0  0.0  3.0   0"
      ]
     },
     "execution_count": 2,
     "metadata": {
      "tags": []
     },
     "output_type": "execute_result"
    }
   ],
   "source": [
    "filename = r'https://archive.ics.uci.edu/ml/machine-learning-databases/heart-disease/processed.cleveland.data'\n",
    "df = pd.read_csv(filename,\n",
    "                index_col = None,\n",
    "                header = None,\n",
    "                na_values='?')\n",
    "df = df.fillna(0) # Replacing the missing values with '0'\n",
    "\n",
    "for item in range(df[13].size): # Changing values of i >= 2 (0 <= i <= 4) to 1\n",
    "    if df.iat[item, 13] >= 2: \n",
    "        df.iat[item, 13] = 1\n",
    "        \n",
    "\n",
    "df.tail() # Showing the last 5 samples of the dataset"
   ]
  },
  {
   "cell_type": "markdown",
   "metadata": {
    "colab_type": "text",
    "id": "ypPFqPqhqqem"
   },
   "source": [
    "## Splitting data\n",
    "- The dataset consists of 303 samples in total\n",
    "- For the model training we used roughly 2/3 of the data (203 samples)\n",
    "- For the validation we used 1/3 of the data (100 samples)"
   ]
  },
  {
   "cell_type": "code",
   "execution_count": 0,
   "metadata": {
    "colab": {},
    "colab_type": "code",
    "id": "cSL-NUHPpO2X"
   },
   "outputs": [],
   "source": [
    "data_split = 100\n",
    "\n",
    "data = df.loc[:, 0:12]\n",
    "data = preprocessing.scale(data)\n",
    "data_val = data[:data_split]\n",
    "data_train = data[data_split:]\n",
    "\n",
    "\n",
    "labels = df.loc[:,13]\n",
    "labels_val = labels[:data_split]\n",
    "labels_train = labels[data_split:]"
   ]
  },
  {
   "cell_type": "markdown",
   "metadata": {
    "colab_type": "text",
    "id": "pqceLU1T6rsC"
   },
   "source": [
    "## Neural network model\n",
    "### Structure of the model\n",
    "- One hidden layer:\n",
    "  - 10 neurons\n",
    "  - ReLU activation function\n",
    "  - Dropout function with  dropout rate of 10%\n",
    "- Output layer:\n",
    " - Sigmoid activation function\n",
    "\n",
    "- Compiled with:\n",
    " - RMSprop optimizer\n",
    " - Loss is calculated with binary crossentropy\n",
    "  - Metrics\n",
    "    - Accuracy\n",
    "\n",
    "### Training\n",
    "At first we tried to compile a more complex neural network with multiple layers but with testing we came into the conclusion that the accuracy in this case was not very good with such a complex structure. <br>By trial and error we found that one hidden layer with the addition of Dropout-function was quite good in predicting the outcomes.<br>We used batch size of 30 and 40 epochs.\n"
   ]
  },
  {
   "cell_type": "code",
   "execution_count": 4,
   "metadata": {
    "colab": {
     "base_uri": "https://localhost:8080/",
     "height": 138
    },
    "colab_type": "code",
    "id": "1HiNC1QDpwMo",
    "outputId": "51980d83-4a7b-4277-ffe6-6ea5415fade6"
   },
   "outputs": [
    {
     "name": "stdout",
     "output_type": "stream",
     "text": [
      "WARNING:tensorflow:From /usr/local/lib/python3.6/dist-packages/tensorflow_core/python/ops/resource_variable_ops.py:1630: calling BaseResourceVariable.__init__ (from tensorflow.python.ops.resource_variable_ops) with constraint is deprecated and will be removed in a future version.\n",
      "Instructions for updating:\n",
      "If using Keras pass *_constraint arguments to layers.\n",
      "WARNING:tensorflow:From /usr/local/lib/python3.6/dist-packages/tensorflow_core/python/ops/nn_impl.py:183: where (from tensorflow.python.ops.array_ops) is deprecated and will be removed in a future version.\n",
      "Instructions for updating:\n",
      "Use tf.where in 2.0, which has the same broadcast rule as np.where\n"
     ]
    }
   ],
   "source": [
    "from __future__ import absolute_import, division, print_function, unicode_literals\n",
    "model = tf.keras.models.Sequential([ # Defining the neural network\n",
    "  tf.keras.layers.Dense(10, activation='relu', input_shape = (13,)),\n",
    "  tf.keras.layers.Dropout(0.1),\n",
    "  tf.keras.layers.Dense(1, activation='sigmoid')\n",
    "])\n",
    "\n",
    "model.compile(optimizer='rmsprop',\n",
    "              loss='binary_crossentropy',\n",
    "              metrics=['accuracy'])"
   ]
  },
  {
   "cell_type": "code",
   "execution_count": 5,
   "metadata": {
    "colab": {
     "base_uri": "https://localhost:8080/",
     "height": 1000
    },
    "colab_type": "code",
    "id": "zDVS49riqVjb",
    "outputId": "c72a12bc-21bb-449f-e297-a0a1323c690c"
   },
   "outputs": [
    {
     "name": "stdout",
     "output_type": "stream",
     "text": [
      "Train on 203 samples, validate on 100 samples\n",
      "Epoch 1/40\n",
      "203/203 [==============================] - 0s 2ms/sample - loss: 0.7435 - acc: 0.5271 - val_loss: 0.7583 - val_acc: 0.5900\n",
      "Epoch 2/40\n",
      "203/203 [==============================] - 0s 124us/sample - loss: 0.7145 - acc: 0.5369 - val_loss: 0.7291 - val_acc: 0.6200\n",
      "Epoch 3/40\n",
      "203/203 [==============================] - 0s 94us/sample - loss: 0.6985 - acc: 0.5961 - val_loss: 0.7056 - val_acc: 0.6100\n",
      "Epoch 4/40\n",
      "203/203 [==============================] - 0s 89us/sample - loss: 0.6644 - acc: 0.6059 - val_loss: 0.6838 - val_acc: 0.6100\n",
      "Epoch 5/40\n",
      "203/203 [==============================] - 0s 94us/sample - loss: 0.6494 - acc: 0.6158 - val_loss: 0.6654 - val_acc: 0.6100\n",
      "Epoch 6/40\n",
      "203/203 [==============================] - 0s 134us/sample - loss: 0.6333 - acc: 0.6207 - val_loss: 0.6471 - val_acc: 0.6300\n",
      "Epoch 7/40\n",
      "203/203 [==============================] - 0s 95us/sample - loss: 0.6313 - acc: 0.6552 - val_loss: 0.6303 - val_acc: 0.6500\n",
      "Epoch 8/40\n",
      "203/203 [==============================] - 0s 109us/sample - loss: 0.5999 - acc: 0.6404 - val_loss: 0.6146 - val_acc: 0.6800\n",
      "Epoch 9/40\n",
      "203/203 [==============================] - 0s 98us/sample - loss: 0.5774 - acc: 0.6700 - val_loss: 0.6005 - val_acc: 0.7000\n",
      "Epoch 10/40\n",
      "203/203 [==============================] - 0s 91us/sample - loss: 0.5902 - acc: 0.6355 - val_loss: 0.5865 - val_acc: 0.7300\n",
      "Epoch 11/40\n",
      "203/203 [==============================] - 0s 75us/sample - loss: 0.5710 - acc: 0.6798 - val_loss: 0.5741 - val_acc: 0.7300\n",
      "Epoch 12/40\n",
      "203/203 [==============================] - 0s 85us/sample - loss: 0.5535 - acc: 0.7044 - val_loss: 0.5619 - val_acc: 0.7700\n",
      "Epoch 13/40\n",
      "203/203 [==============================] - 0s 79us/sample - loss: 0.5501 - acc: 0.7241 - val_loss: 0.5507 - val_acc: 0.7800\n",
      "Epoch 14/40\n",
      "203/203 [==============================] - 0s 99us/sample - loss: 0.5376 - acc: 0.7044 - val_loss: 0.5398 - val_acc: 0.7900\n",
      "Epoch 15/40\n",
      "203/203 [==============================] - 0s 89us/sample - loss: 0.5336 - acc: 0.7241 - val_loss: 0.5299 - val_acc: 0.8100\n",
      "Epoch 16/40\n",
      "203/203 [==============================] - 0s 83us/sample - loss: 0.4980 - acc: 0.7488 - val_loss: 0.5199 - val_acc: 0.8000\n",
      "Epoch 17/40\n",
      "203/203 [==============================] - 0s 85us/sample - loss: 0.4970 - acc: 0.7389 - val_loss: 0.5117 - val_acc: 0.8100\n",
      "Epoch 18/40\n",
      "203/203 [==============================] - 0s 91us/sample - loss: 0.5025 - acc: 0.7389 - val_loss: 0.5039 - val_acc: 0.8200\n",
      "Epoch 19/40\n",
      "203/203 [==============================] - 0s 92us/sample - loss: 0.4922 - acc: 0.7389 - val_loss: 0.4967 - val_acc: 0.8200\n",
      "Epoch 20/40\n",
      "203/203 [==============================] - 0s 92us/sample - loss: 0.4822 - acc: 0.7438 - val_loss: 0.4897 - val_acc: 0.8200\n",
      "Epoch 21/40\n",
      "203/203 [==============================] - 0s 85us/sample - loss: 0.4720 - acc: 0.7340 - val_loss: 0.4830 - val_acc: 0.8100\n",
      "Epoch 22/40\n",
      "203/203 [==============================] - 0s 101us/sample - loss: 0.4843 - acc: 0.7537 - val_loss: 0.4775 - val_acc: 0.8100\n",
      "Epoch 23/40\n",
      "203/203 [==============================] - 0s 95us/sample - loss: 0.4843 - acc: 0.7537 - val_loss: 0.4721 - val_acc: 0.8200\n",
      "Epoch 24/40\n",
      "203/203 [==============================] - 0s 86us/sample - loss: 0.4755 - acc: 0.7586 - val_loss: 0.4675 - val_acc: 0.8200\n",
      "Epoch 25/40\n",
      "203/203 [==============================] - 0s 98us/sample - loss: 0.4534 - acc: 0.7586 - val_loss: 0.4624 - val_acc: 0.8200\n",
      "Epoch 26/40\n",
      "203/203 [==============================] - 0s 87us/sample - loss: 0.4532 - acc: 0.7586 - val_loss: 0.4582 - val_acc: 0.8200\n",
      "Epoch 27/40\n",
      "203/203 [==============================] - 0s 110us/sample - loss: 0.4364 - acc: 0.7685 - val_loss: 0.4534 - val_acc: 0.8300\n",
      "Epoch 28/40\n",
      "203/203 [==============================] - 0s 84us/sample - loss: 0.4524 - acc: 0.7734 - val_loss: 0.4492 - val_acc: 0.8300\n",
      "Epoch 29/40\n",
      "203/203 [==============================] - 0s 109us/sample - loss: 0.4494 - acc: 0.7882 - val_loss: 0.4459 - val_acc: 0.8200\n",
      "Epoch 30/40\n",
      "203/203 [==============================] - 0s 102us/sample - loss: 0.4433 - acc: 0.7734 - val_loss: 0.4423 - val_acc: 0.8200\n",
      "Epoch 31/40\n",
      "203/203 [==============================] - 0s 103us/sample - loss: 0.4472 - acc: 0.7586 - val_loss: 0.4393 - val_acc: 0.8200\n",
      "Epoch 32/40\n",
      "203/203 [==============================] - 0s 82us/sample - loss: 0.4264 - acc: 0.8079 - val_loss: 0.4359 - val_acc: 0.8200\n",
      "Epoch 33/40\n",
      "203/203 [==============================] - 0s 95us/sample - loss: 0.4205 - acc: 0.7931 - val_loss: 0.4335 - val_acc: 0.8200\n",
      "Epoch 34/40\n",
      "203/203 [==============================] - 0s 119us/sample - loss: 0.4342 - acc: 0.8030 - val_loss: 0.4313 - val_acc: 0.8200\n",
      "Epoch 35/40\n",
      "203/203 [==============================] - 0s 92us/sample - loss: 0.4358 - acc: 0.7980 - val_loss: 0.4290 - val_acc: 0.8200\n",
      "Epoch 36/40\n",
      "203/203 [==============================] - 0s 75us/sample - loss: 0.4430 - acc: 0.7833 - val_loss: 0.4268 - val_acc: 0.8200\n",
      "Epoch 37/40\n",
      "203/203 [==============================] - 0s 87us/sample - loss: 0.4237 - acc: 0.8079 - val_loss: 0.4248 - val_acc: 0.8200\n",
      "Epoch 38/40\n",
      "203/203 [==============================] - 0s 79us/sample - loss: 0.4219 - acc: 0.8227 - val_loss: 0.4235 - val_acc: 0.8400\n",
      "Epoch 39/40\n",
      "203/203 [==============================] - 0s 90us/sample - loss: 0.4164 - acc: 0.7980 - val_loss: 0.4216 - val_acc: 0.8400\n",
      "Epoch 40/40\n",
      "203/203 [==============================] - 0s 94us/sample - loss: 0.3988 - acc: 0.8079 - val_loss: 0.4192 - val_acc: 0.8500\n"
     ]
    }
   ],
   "source": [
    " history = model.fit(data_train, labels_train, batch_size= 30, epochs=40, validation_data=(data_val, labels_val)) # Training the model"
   ]
  },
  {
   "cell_type": "markdown",
   "metadata": {
    "colab_type": "text",
    "id": "styJ8bpozoUv"
   },
   "source": [
    "### Figure for the loss in each epoch"
   ]
  },
  {
   "cell_type": "code",
   "execution_count": 6,
   "metadata": {
    "colab": {
     "base_uri": "https://localhost:8080/",
     "height": 621
    },
    "colab_type": "code",
    "id": "lNvI0uS6qaVx",
    "outputId": "320c95e4-e60e-42a5-8e42-01cd0cbe2a0a"
   },
   "outputs": [
    {
     "data": {
      "image/png": "[encoded data removed]",
      "text/plain": [
       "<Figure size 1224x720 with 1 Axes>"
      ]
     },
     "metadata": {
      "tags": []
     },
     "output_type": "display_data"
    }
   ],
   "source": [
    "loss = history.history['loss']\n",
    "val_loss = history.history['val_loss']\n",
    "\n",
    "epochs = range(1, len(loss) + 1)\n",
    "\n",
    "plt.figure(figsize=(17,10))\n",
    "plt.plot(epochs, loss, '-ok', label='Training loss')\n",
    "plt.plot(epochs, val_loss, 'b', label='Validation loss')\n",
    "plt.title('Training and validation loss')\n",
    "plt.xlabel('Epochs')\n",
    "plt.ylabel('Loss')\n",
    "plt.legend()\n",
    "\n",
    "plt.show()"
   ]
  },
  {
   "cell_type": "markdown",
   "metadata": {
    "colab_type": "text",
    "id": "nDZDQ-Olzydw"
   },
   "source": [
    "### Figure for the accuracy in each epoch"
   ]
  },
  {
   "cell_type": "code",
   "execution_count": 7,
   "metadata": {
    "colab": {
     "base_uri": "https://localhost:8080/",
     "height": 621
    },
    "colab_type": "code",
    "id": "IQN5FPT3yhfu",
    "outputId": "0418e0ac-b6a2-4385-86b6-803d1358b359"
   },
   "outputs": [
    {
     "data": {
      "image/png": "[encoded data removed]",
      "text/plain": [
       "<Figure size 1224x720 with 1 Axes>"
      ]
     },
     "metadata": {
      "tags": []
     },
     "output_type": "display_data"
    }
   ],
   "source": [
    "acc = history.history['acc']\n",
    "val_acc = history.history['val_acc']\n",
    "plt.figure(figsize=(17,10))\n",
    "plt.plot(epochs, acc, '-ok', label='Training acc')\n",
    "plt.plot(epochs, val_acc, 'b', label='Validation acc')\n",
    "plt.title('Training and validation accuracy')\n",
    "plt.xlabel('Epochs')\n",
    "plt.ylabel('Accuracy')\n",
    "plt.legend()\n",
    "\n",
    "plt.show()"
   ]
  },
  {
   "cell_type": "markdown",
   "metadata": {
    "colab_type": "text",
    "id": "AH2ttSbm3Axg"
   },
   "source": [
    "# Results\n",
    "\n",
    "We trained the model with 40 epochs and got a validation accuracy of approximately 84% and a training accuracy of approximately 80%. These values are close enough to each other for us to conclude that the model is not overtrained on the dataset.\n",
    "\n",
    "Above are two graphs. The first describes the value off the loss function in the training and validation data and the second describes the accuracy of both the validation and training sets. Both of the graphs display a similar development in the values for the training and validation datasets which shows that the model is working.\n"
   ]
  },
  {
   "cell_type": "markdown",
   "metadata": {
    "colab_type": "text",
    "id": "CF3ZVOi79GWa"
   },
   "source": [
    "# Conclusions\n",
    "\n",
    "In conclusion our model can reach a validation accuracy of 84% which means it can be fairly reliably used as a helping hand in categorizing heart disease patients. The accuracy could most likely be improved by some amount by providing a larger dataset to train the model with. Taking into account the size of the dataset we are satisfied with the achieved accuracy."
   ]
  }
 ],
 "metadata": {
  "colab": {
   "collapsed_sections": [],
   "name": "CASE_1.ipynb",
   "provenance": []
  },
  "kernelspec": {
   "display_name": "Python 3",
   "language": "python",
   "name": "python3"
  },
  "language_info": {
   "codemirror_mode": {
    "name": "ipython",
    "version": 3
   },
   "file_extension": ".py",
   "mimetype": "text/x-python",
   "name": "python",
   "nbconvert_exporter": "python",
   "pygments_lexer": "ipython3",
   "version": "3.7.4"
  }
 },
 "nbformat": 4,
 "nbformat_minor": 1
}
