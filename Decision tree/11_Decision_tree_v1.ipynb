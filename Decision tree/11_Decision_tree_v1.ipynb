{
 "cells": [
  {
   "cell_type": "markdown",
   "metadata": {
    "colab_type": "text",
    "id": "2WvfwEKoE1vM"
   },
   "source": [
    "# Decision tree\n",
    "Mathematics and Methods in Machine Learning and Neural Networks<br>\n",
    "Jori Nordlund, Simo Ojala, Esa Ryömä<br>\n",
    "Helsinki Metropolia University of Applied sciences<br>\n",
    "06.02.2020"
   ]
  },
  {
   "cell_type": "code",
   "execution_count": 1,
   "metadata": {
    "colab": {},
    "colab_type": "code",
    "id": "-OFg7-Rz86B_"
   },
   "outputs": [],
   "source": [
    "import pandas as pd\n",
    "import numpy as np\n",
    "from sklearn import tree\n",
    "import graphviz\n",
    "from sklearn.metrics import confusion_matrix\n",
    "from sklearn.metrics import classification_report\n",
    "from sklearn.model_selection import cross_val_score\n",
    "from sklearn import model_selection\n",
    "from IPython.display import IFrame"
   ]
  },
  {
   "cell_type": "markdown",
   "metadata": {},
   "source": [
    "## Objective\n",
    "The objective of this assignment is to create a decision tree that defines whether a site is legit or used for phishing."
   ]
  },
  {
   "cell_type": "markdown",
   "metadata": {
    "colab_type": "text",
    "id": "t8jnZSK5GKMk"
   },
   "source": [
    "## Data handling"
   ]
  },
  {
   "cell_type": "code",
   "execution_count": 2,
   "metadata": {
    "colab": {
     "base_uri": "https://localhost:8080/",
     "height": 363
    },
    "colab_type": "code",
    "id": "AEbScrxF86CF",
    "outputId": "5ccb406a-9492-4fba-ee08-d7aec0d73902"
   },
   "outputs": [
    {
     "data": {
      "text/html": [
       "<div>\n",
       "<style scoped>\n",
       "    .dataframe tbody tr th:only-of-type {\n",
       "        vertical-align: middle;\n",
       "    }\n",
       "\n",
       "    .dataframe tbody tr th {\n",
       "        vertical-align: top;\n",
       "    }\n",
       "\n",
       "    .dataframe thead th {\n",
       "        text-align: right;\n",
       "    }\n",
       "</style>\n",
       "<table border=\"1\" class=\"dataframe\">\n",
       "  <thead>\n",
       "    <tr style=\"text-align: right;\">\n",
       "      <th></th>\n",
       "      <th>having_IP_Address</th>\n",
       "      <th>URL_Length</th>\n",
       "      <th>Shortining_Service</th>\n",
       "      <th>having_At_Symbol</th>\n",
       "      <th>double_slash_redirecting</th>\n",
       "      <th>Prefix_Suffix</th>\n",
       "      <th>having_Sub_Domain</th>\n",
       "      <th>SSLfinal_State</th>\n",
       "      <th>Domain_registeration_length</th>\n",
       "      <th>Favicon</th>\n",
       "      <th>...</th>\n",
       "      <th>popUpWindow</th>\n",
       "      <th>Iframe</th>\n",
       "      <th>age_of_domain</th>\n",
       "      <th>DNSRecord</th>\n",
       "      <th>web_traffic</th>\n",
       "      <th>Page_Rank</th>\n",
       "      <th>Google_Index</th>\n",
       "      <th>Links_pointing_to_page</th>\n",
       "      <th>Statistical_report</th>\n",
       "      <th>Result</th>\n",
       "    </tr>\n",
       "  </thead>\n",
       "  <tbody>\n",
       "    <tr>\n",
       "      <td>0</td>\n",
       "      <td>-1</td>\n",
       "      <td>1</td>\n",
       "      <td>1</td>\n",
       "      <td>1</td>\n",
       "      <td>-1</td>\n",
       "      <td>-1</td>\n",
       "      <td>-1</td>\n",
       "      <td>-1</td>\n",
       "      <td>-1</td>\n",
       "      <td>1</td>\n",
       "      <td>...</td>\n",
       "      <td>1</td>\n",
       "      <td>1</td>\n",
       "      <td>-1</td>\n",
       "      <td>-1</td>\n",
       "      <td>-1</td>\n",
       "      <td>-1</td>\n",
       "      <td>1</td>\n",
       "      <td>1</td>\n",
       "      <td>-1</td>\n",
       "      <td>-1</td>\n",
       "    </tr>\n",
       "    <tr>\n",
       "      <td>1</td>\n",
       "      <td>1</td>\n",
       "      <td>1</td>\n",
       "      <td>1</td>\n",
       "      <td>1</td>\n",
       "      <td>1</td>\n",
       "      <td>-1</td>\n",
       "      <td>0</td>\n",
       "      <td>1</td>\n",
       "      <td>-1</td>\n",
       "      <td>1</td>\n",
       "      <td>...</td>\n",
       "      <td>1</td>\n",
       "      <td>1</td>\n",
       "      <td>-1</td>\n",
       "      <td>-1</td>\n",
       "      <td>0</td>\n",
       "      <td>-1</td>\n",
       "      <td>1</td>\n",
       "      <td>1</td>\n",
       "      <td>1</td>\n",
       "      <td>-1</td>\n",
       "    </tr>\n",
       "    <tr>\n",
       "      <td>2</td>\n",
       "      <td>1</td>\n",
       "      <td>0</td>\n",
       "      <td>1</td>\n",
       "      <td>1</td>\n",
       "      <td>1</td>\n",
       "      <td>-1</td>\n",
       "      <td>-1</td>\n",
       "      <td>-1</td>\n",
       "      <td>-1</td>\n",
       "      <td>1</td>\n",
       "      <td>...</td>\n",
       "      <td>1</td>\n",
       "      <td>1</td>\n",
       "      <td>1</td>\n",
       "      <td>-1</td>\n",
       "      <td>1</td>\n",
       "      <td>-1</td>\n",
       "      <td>1</td>\n",
       "      <td>0</td>\n",
       "      <td>-1</td>\n",
       "      <td>-1</td>\n",
       "    </tr>\n",
       "    <tr>\n",
       "      <td>3</td>\n",
       "      <td>1</td>\n",
       "      <td>0</td>\n",
       "      <td>1</td>\n",
       "      <td>1</td>\n",
       "      <td>1</td>\n",
       "      <td>-1</td>\n",
       "      <td>-1</td>\n",
       "      <td>-1</td>\n",
       "      <td>1</td>\n",
       "      <td>1</td>\n",
       "      <td>...</td>\n",
       "      <td>1</td>\n",
       "      <td>1</td>\n",
       "      <td>-1</td>\n",
       "      <td>-1</td>\n",
       "      <td>1</td>\n",
       "      <td>-1</td>\n",
       "      <td>1</td>\n",
       "      <td>-1</td>\n",
       "      <td>1</td>\n",
       "      <td>-1</td>\n",
       "    </tr>\n",
       "    <tr>\n",
       "      <td>4</td>\n",
       "      <td>1</td>\n",
       "      <td>0</td>\n",
       "      <td>-1</td>\n",
       "      <td>1</td>\n",
       "      <td>1</td>\n",
       "      <td>-1</td>\n",
       "      <td>1</td>\n",
       "      <td>1</td>\n",
       "      <td>-1</td>\n",
       "      <td>1</td>\n",
       "      <td>...</td>\n",
       "      <td>-1</td>\n",
       "      <td>1</td>\n",
       "      <td>-1</td>\n",
       "      <td>-1</td>\n",
       "      <td>0</td>\n",
       "      <td>-1</td>\n",
       "      <td>1</td>\n",
       "      <td>1</td>\n",
       "      <td>1</td>\n",
       "      <td>1</td>\n",
       "    </tr>\n",
       "    <tr>\n",
       "      <td>5</td>\n",
       "      <td>-1</td>\n",
       "      <td>0</td>\n",
       "      <td>-1</td>\n",
       "      <td>1</td>\n",
       "      <td>-1</td>\n",
       "      <td>-1</td>\n",
       "      <td>1</td>\n",
       "      <td>1</td>\n",
       "      <td>-1</td>\n",
       "      <td>1</td>\n",
       "      <td>...</td>\n",
       "      <td>1</td>\n",
       "      <td>1</td>\n",
       "      <td>1</td>\n",
       "      <td>1</td>\n",
       "      <td>1</td>\n",
       "      <td>-1</td>\n",
       "      <td>1</td>\n",
       "      <td>-1</td>\n",
       "      <td>-1</td>\n",
       "      <td>1</td>\n",
       "    </tr>\n",
       "    <tr>\n",
       "      <td>6</td>\n",
       "      <td>1</td>\n",
       "      <td>0</td>\n",
       "      <td>-1</td>\n",
       "      <td>1</td>\n",
       "      <td>1</td>\n",
       "      <td>-1</td>\n",
       "      <td>-1</td>\n",
       "      <td>-1</td>\n",
       "      <td>1</td>\n",
       "      <td>1</td>\n",
       "      <td>...</td>\n",
       "      <td>1</td>\n",
       "      <td>1</td>\n",
       "      <td>1</td>\n",
       "      <td>-1</td>\n",
       "      <td>-1</td>\n",
       "      <td>-1</td>\n",
       "      <td>1</td>\n",
       "      <td>0</td>\n",
       "      <td>-1</td>\n",
       "      <td>-1</td>\n",
       "    </tr>\n",
       "    <tr>\n",
       "      <td>7</td>\n",
       "      <td>1</td>\n",
       "      <td>0</td>\n",
       "      <td>1</td>\n",
       "      <td>1</td>\n",
       "      <td>1</td>\n",
       "      <td>-1</td>\n",
       "      <td>-1</td>\n",
       "      <td>-1</td>\n",
       "      <td>1</td>\n",
       "      <td>1</td>\n",
       "      <td>...</td>\n",
       "      <td>1</td>\n",
       "      <td>1</td>\n",
       "      <td>-1</td>\n",
       "      <td>-1</td>\n",
       "      <td>0</td>\n",
       "      <td>-1</td>\n",
       "      <td>1</td>\n",
       "      <td>0</td>\n",
       "      <td>1</td>\n",
       "      <td>-1</td>\n",
       "    </tr>\n",
       "    <tr>\n",
       "      <td>8</td>\n",
       "      <td>1</td>\n",
       "      <td>0</td>\n",
       "      <td>-1</td>\n",
       "      <td>1</td>\n",
       "      <td>1</td>\n",
       "      <td>-1</td>\n",
       "      <td>1</td>\n",
       "      <td>1</td>\n",
       "      <td>-1</td>\n",
       "      <td>1</td>\n",
       "      <td>...</td>\n",
       "      <td>1</td>\n",
       "      <td>1</td>\n",
       "      <td>1</td>\n",
       "      <td>-1</td>\n",
       "      <td>1</td>\n",
       "      <td>1</td>\n",
       "      <td>1</td>\n",
       "      <td>0</td>\n",
       "      <td>1</td>\n",
       "      <td>1</td>\n",
       "    </tr>\n",
       "    <tr>\n",
       "      <td>9</td>\n",
       "      <td>1</td>\n",
       "      <td>1</td>\n",
       "      <td>-1</td>\n",
       "      <td>1</td>\n",
       "      <td>1</td>\n",
       "      <td>-1</td>\n",
       "      <td>-1</td>\n",
       "      <td>1</td>\n",
       "      <td>-1</td>\n",
       "      <td>1</td>\n",
       "      <td>...</td>\n",
       "      <td>1</td>\n",
       "      <td>1</td>\n",
       "      <td>1</td>\n",
       "      <td>-1</td>\n",
       "      <td>0</td>\n",
       "      <td>-1</td>\n",
       "      <td>1</td>\n",
       "      <td>0</td>\n",
       "      <td>1</td>\n",
       "      <td>-1</td>\n",
       "    </tr>\n",
       "  </tbody>\n",
       "</table>\n",
       "<p>10 rows × 31 columns</p>\n",
       "</div>"
      ],
      "text/plain": [
       "   having_IP_Address  URL_Length  Shortining_Service  having_At_Symbol  \\\n",
       "0                 -1           1                   1                 1   \n",
       "1                  1           1                   1                 1   \n",
       "2                  1           0                   1                 1   \n",
       "3                  1           0                   1                 1   \n",
       "4                  1           0                  -1                 1   \n",
       "5                 -1           0                  -1                 1   \n",
       "6                  1           0                  -1                 1   \n",
       "7                  1           0                   1                 1   \n",
       "8                  1           0                  -1                 1   \n",
       "9                  1           1                  -1                 1   \n",
       "\n",
       "   double_slash_redirecting  Prefix_Suffix  having_Sub_Domain  SSLfinal_State  \\\n",
       "0                        -1             -1                 -1              -1   \n",
       "1                         1             -1                  0               1   \n",
       "2                         1             -1                 -1              -1   \n",
       "3                         1             -1                 -1              -1   \n",
       "4                         1             -1                  1               1   \n",
       "5                        -1             -1                  1               1   \n",
       "6                         1             -1                 -1              -1   \n",
       "7                         1             -1                 -1              -1   \n",
       "8                         1             -1                  1               1   \n",
       "9                         1             -1                 -1               1   \n",
       "\n",
       "   Domain_registeration_length  Favicon  ...  popUpWindow  Iframe  \\\n",
       "0                           -1        1  ...            1       1   \n",
       "1                           -1        1  ...            1       1   \n",
       "2                           -1        1  ...            1       1   \n",
       "3                            1        1  ...            1       1   \n",
       "4                           -1        1  ...           -1       1   \n",
       "5                           -1        1  ...            1       1   \n",
       "6                            1        1  ...            1       1   \n",
       "7                            1        1  ...            1       1   \n",
       "8                           -1        1  ...            1       1   \n",
       "9                           -1        1  ...            1       1   \n",
       "\n",
       "   age_of_domain  DNSRecord  web_traffic  Page_Rank  Google_Index  \\\n",
       "0             -1         -1           -1         -1             1   \n",
       "1             -1         -1            0         -1             1   \n",
       "2              1         -1            1         -1             1   \n",
       "3             -1         -1            1         -1             1   \n",
       "4             -1         -1            0         -1             1   \n",
       "5              1          1            1         -1             1   \n",
       "6              1         -1           -1         -1             1   \n",
       "7             -1         -1            0         -1             1   \n",
       "8              1         -1            1          1             1   \n",
       "9              1         -1            0         -1             1   \n",
       "\n",
       "   Links_pointing_to_page  Statistical_report  Result  \n",
       "0                       1                  -1      -1  \n",
       "1                       1                   1      -1  \n",
       "2                       0                  -1      -1  \n",
       "3                      -1                   1      -1  \n",
       "4                       1                   1       1  \n",
       "5                      -1                  -1       1  \n",
       "6                       0                  -1      -1  \n",
       "7                       0                   1      -1  \n",
       "8                       0                   1       1  \n",
       "9                       0                   1      -1  \n",
       "\n",
       "[10 rows x 31 columns]"
      ]
     },
     "execution_count": 2,
     "metadata": {},
     "output_type": "execute_result"
    }
   ],
   "source": [
    "filename = r'http://users.metropolia.fi/~simooj/phishing.csv'\n",
    "df = pd.read_csv(filename,\n",
    "                index_col = None,\n",
    "                sep = ';',\n",
    "                na_values='?')\n",
    "df.head(10)"
   ]
  },
  {
   "cell_type": "code",
   "execution_count": 3,
   "metadata": {
    "colab": {
     "base_uri": "https://localhost:8080/",
     "height": 571
    },
    "colab_type": "code",
    "id": "JUvG7Ty986CJ",
    "outputId": "a6fcf4be-ce55-48fa-d4e9-92e94bb57bed"
   },
   "outputs": [
    {
     "name": "stdout",
     "output_type": "stream",
     "text": [
      "(11055, 31)\n",
      "having_IP_Address                 int64\n",
      "URL_Length                        int64\n",
      "Shortining_Service                int64\n",
      "having_At_Symbol                  int64\n",
      "double_slash_redirecting          int64\n",
      "Prefix_Suffix                     int64\n",
      "having_Sub_Domain                 int64\n",
      "SSLfinal_State                    int64\n",
      "Domain_registeration_length       int64\n",
      "Favicon                           int64\n",
      "port                              int64\n",
      "HTTPS_token                       int64\n",
      "Request_URL                       int64\n",
      "URL_of_Anchor                     int64\n",
      "Links_in_tags                     int64\n",
      "SFH                               int64\n",
      "Submitting_to_email               int64\n",
      "Abnormal_URL                      int64\n",
      "Redirect                          int64\n",
      "on_mouseover                      int64\n",
      "RightClick                        int64\n",
      "popUpWindow                       int64\n",
      "Iframe                            int64\n",
      "age_of_domain                     int64\n",
      "DNSRecord                         int64\n",
      "web_traffic                       int64\n",
      "Page_Rank                         int64\n",
      "Google_Index                      int64\n",
      "Links_pointing_to_page            int64\n",
      "Statistical_report                int64\n",
      "Result                         category\n",
      "dtype: object\n"
     ]
    }
   ],
   "source": [
    "df['Result'] = df['Result'].astype(pd.api.types.CategoricalDtype(ordered=False))\n",
    "print(df.shape)\n",
    "print(df.dtypes) # Checking the types of the data"
   ]
  },
  {
   "cell_type": "code",
   "execution_count": 4,
   "metadata": {
    "colab": {
     "base_uri": "https://localhost:8080/",
     "height": 319
    },
    "colab_type": "code",
    "id": "JUoQ1xug86CM",
    "outputId": "9fb4f5f7-8d1e-4dfc-ad03-42c89235dbc0"
   },
   "outputs": [
    {
     "name": "stdout",
     "output_type": "stream",
     "text": [
      "<PandasArray>\n",
      "[          'having_IP_Address',                  'URL_Length',\n",
      "          'Shortining_Service',            'having_At_Symbol',\n",
      "    'double_slash_redirecting',               'Prefix_Suffix',\n",
      "           'having_Sub_Domain',              'SSLfinal_State',\n",
      " 'Domain_registeration_length',                     'Favicon',\n",
      "                        'port',                 'HTTPS_token',\n",
      "                 'Request_URL',               'URL_of_Anchor',\n",
      "               'Links_in_tags',                         'SFH',\n",
      "         'Submitting_to_email',                'Abnormal_URL',\n",
      "                    'Redirect',                'on_mouseover',\n",
      "                  'RightClick',                 'popUpWindow',\n",
      "                      'Iframe',               'age_of_domain',\n",
      "                   'DNSRecord',                 'web_traffic',\n",
      "                   'Page_Rank',                'Google_Index',\n",
      "      'Links_pointing_to_page',          'Statistical_report',\n",
      "                      'Result']\n",
      "Length: 31, dtype: object\n"
     ]
    }
   ],
   "source": [
    "colnames = df.columns.array\n",
    "print(colnames) # Printing the column names of the data "
   ]
  },
  {
   "cell_type": "code",
   "execution_count": 5,
   "metadata": {
    "colab": {
     "base_uri": "https://localhost:8080/",
     "height": 235
    },
    "colab_type": "code",
    "id": "FkLoqJVA86CP",
    "outputId": "53a27315-85da-4fe1-bf29-194f235367ba"
   },
   "outputs": [
    {
     "name": "stdout",
     "output_type": "stream",
     "text": [
      "0       -1\n",
      "1       -1\n",
      "2       -1\n",
      "3       -1\n",
      "4        1\n",
      "        ..\n",
      "11050    1\n",
      "11051   -1\n",
      "11052   -1\n",
      "11053   -1\n",
      "11054   -1\n",
      "Name: Result, Length: 11055, dtype: category\n",
      "Categories (2, int64): [-1, 1]\n"
     ]
    }
   ],
   "source": [
    "# Slicing the labels and input variables from the data\n",
    "\n",
    "data = df.loc[:, 'having_IP_Address':'Statistical_report'] # input variables\n",
    "labels = df.loc[:,'Result'] # labels\n",
    "print(labels)"
   ]
  },
  {
   "cell_type": "markdown",
   "metadata": {
    "colab_type": "text",
    "id": "tBgQ5X78G3Zp"
   },
   "source": [
    "## Decision tree\n",
    "- Defining the tree\n",
    "- Fitting the data\n",
    "- Validating the tree"
   ]
  },
  {
   "cell_type": "code",
   "execution_count": 6,
   "metadata": {
    "colab": {
     "base_uri": "https://localhost:8080/",
     "height": 118
    },
    "colab_type": "code",
    "id": "RCkJBoD686CS",
    "outputId": "a0dd284b-05c1-4cbd-9959-326561ed0f18"
   },
   "outputs": [
    {
     "data": {
      "text/plain": [
       "DecisionTreeClassifier(class_weight=None, criterion='gini', max_depth=2,\n",
       "                       max_features=None, max_leaf_nodes=None,\n",
       "                       min_impurity_decrease=0.0, min_impurity_split=None,\n",
       "                       min_samples_leaf=1, min_samples_split=2,\n",
       "                       min_weight_fraction_leaf=0.0, presort=False,\n",
       "                       random_state=None, splitter='best')"
      ]
     },
     "execution_count": 6,
     "metadata": {},
     "output_type": "execute_result"
    }
   ],
   "source": [
    "# Defining the tree\n",
    "classifier = tree.DecisionTreeClassifier(max_depth=2)\n",
    "\n",
    "#Fitting the data\n",
    "classifier.fit(data, labels)"
   ]
  },
  {
   "cell_type": "code",
   "execution_count": 7,
   "metadata": {
    "colab": {
     "base_uri": "https://localhost:8080/",
     "height": 721
    },
    "colab_type": "code",
    "id": "yOFa8moh86CW",
    "outputId": "8340c24a-7d1a-4e42-a9ba-c8ad7620c1f8"
   },
   "outputs": [
    {
     "data": {
      "text/html": [
       "\n",
       "        <iframe\n",
       "            width=\"900\"\n",
       "            height=\"700\"\n",
       "            src=\"http://users.metropolia.fi/~simooj/phishing.pdf\"\n",
       "            frameborder=\"0\"\n",
       "            allowfullscreen\n",
       "        ></iframe>\n",
       "        "
      ],
      "text/plain": [
       "<IPython.lib.display.IFrame at 0x2d3c280d588>"
      ]
     },
     "execution_count": 7,
     "metadata": {},
     "output_type": "execute_result"
    }
   ],
   "source": [
    "# Creating a picture of the tree that was build\n",
    "dot_data = tree.export_graphviz(classifier, out_file=None, feature_names=colnames[:30], class_names=['-1','1'])\n",
    "graph = graphviz.Source(dot_data)\n",
    "graph.render(\"kuva\")\n",
    "\n",
    "IFrame(\"http://users.metropolia.fi/~simooj/phishing.pdf\", width=900, height=700)"
   ]
  },
  {
   "cell_type": "markdown",
   "metadata": {
    "colab_type": "text",
    "id": "T0vROfb8HsMB"
   },
   "source": [
    "### Confusion matrix and cross validation"
   ]
  },
  {
   "cell_type": "code",
   "execution_count": 8,
   "metadata": {
    "colab": {
     "base_uri": "https://localhost:8080/",
     "height": 50
    },
    "colab_type": "code",
    "id": "yWCmI_3B86CY",
    "outputId": "2b2b2f7f-18d9-4e3c-a293-b286240ea7c7"
   },
   "outputs": [
    {
     "name": "stdout",
     "output_type": "stream",
     "text": [
      "[[4425  473]\n",
      " [ 563 5594]]\n"
     ]
    }
   ],
   "source": [
    "Y_pred = classifier.predict(data)\n",
    "\n",
    "# Confusin matrix\n",
    "cm = confusion_matrix(labels, Y_pred)\n",
    "print(cm)"
   ]
  },
  {
   "cell_type": "code",
   "execution_count": 9,
   "metadata": {
    "colab": {
     "base_uri": "https://localhost:8080/",
     "height": 84
    },
    "colab_type": "code",
    "id": "ErjGcGXKA1Tc",
    "outputId": "1930e7ae-8f35-43aa-89de-0305eee5da9c"
   },
   "outputs": [
    {
     "name": "stdout",
     "output_type": "stream",
     "text": [
      "Accuracies from 10 individual folds:\n",
      "[0.89783002 0.8960217  0.90144665 0.90777577 0.90596745 0.920434\n",
      " 0.90415913 0.89864253 0.91757246 0.91304348]\n",
      "Accuracy calculated using 10-fold cross validation = 0.906\n"
     ]
    }
   ],
   "source": [
    "# Cross validation using k-folds cross validation\n",
    "k = 10\n",
    "scores = cross_val_score(estimator=classifier,\n",
    "                        X=data,\n",
    "                        y=labels,\n",
    "                        scoring=\"accuracy\",\n",
    "                        cv=k)\n",
    "print(\"Accuracies from %d individual folds:\" % k)\n",
    "print(scores)\n",
    "print(\"Accuracy calculated using %d-fold cross validation = %.3f\" % (k, scores.mean()))"
   ]
  },
  {
   "cell_type": "markdown",
   "metadata": {
    "colab_type": "text",
    "id": "RPNbONXXIEHe"
   },
   "source": [
    "## Classification report"
   ]
  },
  {
   "cell_type": "code",
   "execution_count": 10,
   "metadata": {
    "colab": {
     "base_uri": "https://localhost:8080/",
     "height": 168
    },
    "colab_type": "code",
    "id": "aUnqVriQBwbQ",
    "outputId": "25ef51e4-3621-481d-d7ad-cfa03641853c"
   },
   "outputs": [
    {
     "name": "stdout",
     "output_type": "stream",
     "text": [
      "              precision    recall  f1-score   support\n",
      "\n",
      "          -1       0.89      0.90      0.90      4898\n",
      "           1       0.92      0.91      0.92      6157\n",
      "\n",
      "    accuracy                           0.91     11055\n",
      "   macro avg       0.90      0.91      0.91     11055\n",
      "weighted avg       0.91      0.91      0.91     11055\n",
      "\n"
     ]
    }
   ],
   "source": [
    "print(classification_report(labels, Y_pred, target_names=['-1', '1']))"
   ]
  },
  {
   "cell_type": "markdown",
   "metadata": {
    "colab_type": "text",
    "id": "-PbeSwJkJRy4"
   },
   "source": [
    "From the confusion matrix and the classification report we can see that our decision tree does identify the phishing sites with the recall of 91%, practically speaking this means that out of 6157 sample phishing sites the tree was able to correctly identify 5594. "
   ]
  },
  {
   "cell_type": "markdown",
   "metadata": {
    "colab_type": "text",
    "id": "zp3AU-1DFV3z"
   },
   "source": [
    "# Instructions\n",
    "For web security purposes, the decision tree produced in this document gives the following steps to follow:\n",
    "- Step 1: First, see if the target site uses HTTPS security certificate. If there is <b>NO HTTPS certificate, check step 2.</b>\n",
    "If the existing certificate is from a trusted source or not, was not a decisive factor in this. If there <b>IS a HTTPS certificate</b>, the site is likely to be <b>legitimate</b>.\n",
    "\n",
    "- Step 2: Check if \"anchors\" meaning links with a-tags link outside the site itself to different domains. In legitimate sites most of the anchors link to the site itself. Also, it is suspicious if the anchors do not link to any webpage, but contains void javascript or link to non-existent parts.\n",
    "If below 31% of links on the site link outside the site domain, the site is legitimate.\n",
    "If between 31% and 67% link outside the domain, the site is suspicious.\n",
    "If over 67% link outside the domain, the site is likely to be a phishing site.\n",
    "\n",
    "As a rule of thumb: if over 31% of links link outside the domain, treat the site as dangerous!"
   ]
  },
  {
   "cell_type": "markdown",
   "metadata": {
    "colab_type": "text",
    "id": "W4ueCZWTItX1"
   },
   "source": [
    "#Sources\n",
    "Documentation on the data was lacking, but after searching the several descriptions of the same dataset were found.\n",
    "\n",
    "Original dataset: https://archive.ics.uci.edu/ml/datasets/phishing+websites#\n",
    "\n",
    "Description of the data column names: https://github.com/tensorflow/tfjs-examples/tree/master/website-phishing"
   ]
  },
  {
   "cell_type": "code",
   "execution_count": null,
   "metadata": {
    "colab": {},
    "colab_type": "code",
    "id": "gj2oMaTpRORF"
   },
   "outputs": [],
   "source": []
  }
 ],
 "metadata": {
  "colab": {
   "collapsed_sections": [],
   "name": "11_Decision_tree_v1.ipynb",
   "provenance": []
  },
  "kernelspec": {
   "display_name": "Python 3",
   "language": "python",
   "name": "python3"
  },
  "language_info": {
   "codemirror_mode": {
    "name": "ipython",
    "version": 3
   },
   "file_extension": ".py",
   "mimetype": "text/x-python",
   "name": "python",
   "nbconvert_exporter": "python",
   "pygments_lexer": "ipython3",
   "version": "3.7.4"
  }
 },
 "nbformat": 4,
 "nbformat_minor": 1
}
