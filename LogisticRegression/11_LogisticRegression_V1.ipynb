{
  "nbformat": 4,
  "nbformat_minor": 0,
  "metadata": {
    "kernelspec": {
      "display_name": "Python 3",
      "language": "python",
      "name": "python3"
    },
    "language_info": {
      "codemirror_mode": {
        "name": "ipython",
        "version": 3
      },
      "file_extension": ".py",
      "mimetype": "text/x-python",
      "name": "python",
      "nbconvert_exporter": "python",
      "pygments_lexer": "ipython3",
      "version": "3.7.4"
    },
    "colab": {
      "name": "11_LogisticRegression_V1.ipynb",
      "provenance": [],
      "collapsed_sections": []
    }
  },
  "cells": [
    {
      "cell_type": "markdown",
      "metadata": {
        "id": "cdgervxgZJmT",
        "colab_type": "text"
      },
      "source": [
        "# Logistic regression\n",
        "Mathematics and Methods in Machine Learning and Neural Networks<br>\n",
        "Jori Nordlund, Simo Ojala ja Esa Ryömä<br>\n",
        "Helsinki Metropolia University of Applied sciences<br>\n",
        "06.03.2020"
      ]
    },
    {
      "cell_type": "code",
      "metadata": {
        "id": "CzDPBXAdZJmW",
        "colab_type": "code",
        "colab": {}
      },
      "source": [
        "import pandas as pd\n",
        "import numpy as np\n",
        "import matplotlib.pyplot as plt\n",
        "from sklearn.linear_model import LogisticRegression\n",
        "from sklearn.preprocessing import StandardScaler\n",
        "from sklearn.metrics import confusion_matrix\n",
        "from sklearn.metrics import classification_report\n",
        "from sklearn.model_selection import cross_val_score\n",
        "from sklearn.utils import shuffle"
      ],
      "execution_count": 0,
      "outputs": []
    },
    {
      "cell_type": "markdown",
      "metadata": {
        "id": "N7TneLHUgLxx",
        "colab_type": "text"
      },
      "source": [
        "# Data"
      ]
    },
    {
      "cell_type": "code",
      "metadata": {
        "id": "iRf2H5-tZJma",
        "colab_type": "code",
        "outputId": "80da9b97-273a-479c-e6f1-02ac330a7383",
        "colab": {
          "base_uri": "https://localhost:8080/",
          "height": 195
        }
      },
      "source": [
        "filename = r'https://raw.githubusercontent.com/esaryoma/machine-learning-datasets/master/vertebral_column_data/column_2C_colnames.dat'\n",
        "df = pd.read_csv(filename,\n",
        "                index_col = None,\n",
        "                sep = ' ',\n",
        "                na_values='?')\n",
        "\n",
        "# Shuffling the samples and resetting indices since the samples were ordered from normal to abnormal\n",
        "df = shuffle(df)\n",
        "df.reset_index(inplace=True, drop=True)\n",
        "\n",
        "df.head()"
      ],
      "execution_count": 2,
      "outputs": [
        {
          "output_type": "execute_result",
          "data": {
            "text/html": [
              "<div>\n",
              "<style scoped>\n",
              "    .dataframe tbody tr th:only-of-type {\n",
              "        vertical-align: middle;\n",
              "    }\n",
              "\n",
              "    .dataframe tbody tr th {\n",
              "        vertical-align: top;\n",
              "    }\n",
              "\n",
              "    .dataframe thead th {\n",
              "        text-align: right;\n",
              "    }\n",
              "</style>\n",
              "<table border=\"1\" class=\"dataframe\">\n",
              "  <thead>\n",
              "    <tr style=\"text-align: right;\">\n",
              "      <th></th>\n",
              "      <th>pelvic_incidence</th>\n",
              "      <th>pelvic_tilt</th>\n",
              "      <th>lumbar_lordosis_angle</th>\n",
              "      <th>sacral_slope</th>\n",
              "      <th>pelvic_radius</th>\n",
              "      <th>grade_of_spondylolisthesis</th>\n",
              "      <th>class</th>\n",
              "    </tr>\n",
              "  </thead>\n",
              "  <tbody>\n",
              "    <tr>\n",
              "      <th>0</th>\n",
              "      <td>83.88</td>\n",
              "      <td>23.08</td>\n",
              "      <td>87.14</td>\n",
              "      <td>60.80</td>\n",
              "      <td>124.65</td>\n",
              "      <td>80.56</td>\n",
              "      <td>AB</td>\n",
              "    </tr>\n",
              "    <tr>\n",
              "      <th>1</th>\n",
              "      <td>50.82</td>\n",
              "      <td>15.40</td>\n",
              "      <td>42.53</td>\n",
              "      <td>35.42</td>\n",
              "      <td>112.19</td>\n",
              "      <td>10.87</td>\n",
              "      <td>AB</td>\n",
              "    </tr>\n",
              "    <tr>\n",
              "      <th>2</th>\n",
              "      <td>50.75</td>\n",
              "      <td>20.24</td>\n",
              "      <td>37.00</td>\n",
              "      <td>30.52</td>\n",
              "      <td>122.34</td>\n",
              "      <td>2.29</td>\n",
              "      <td>NO</td>\n",
              "    </tr>\n",
              "    <tr>\n",
              "      <th>3</th>\n",
              "      <td>58.78</td>\n",
              "      <td>7.67</td>\n",
              "      <td>53.34</td>\n",
              "      <td>51.12</td>\n",
              "      <td>98.50</td>\n",
              "      <td>51.58</td>\n",
              "      <td>AB</td>\n",
              "    </tr>\n",
              "    <tr>\n",
              "      <th>4</th>\n",
              "      <td>48.80</td>\n",
              "      <td>18.02</td>\n",
              "      <td>52.00</td>\n",
              "      <td>30.78</td>\n",
              "      <td>139.15</td>\n",
              "      <td>10.44</td>\n",
              "      <td>NO</td>\n",
              "    </tr>\n",
              "  </tbody>\n",
              "</table>\n",
              "</div>"
            ],
            "text/plain": [
              "   pelvic_incidence  pelvic_tilt  ...  grade_of_spondylolisthesis  class\n",
              "0             83.88        23.08  ...                       80.56     AB\n",
              "1             50.82        15.40  ...                       10.87     AB\n",
              "2             50.75        20.24  ...                        2.29     NO\n",
              "3             58.78         7.67  ...                       51.58     AB\n",
              "4             48.80        18.02  ...                       10.44     NO\n",
              "\n",
              "[5 rows x 7 columns]"
            ]
          },
          "metadata": {
            "tags": []
          },
          "execution_count": 2
        }
      ]
    },
    {
      "cell_type": "code",
      "metadata": {
        "id": "phN2JHrDZJme",
        "colab_type": "code",
        "outputId": "3c553ab9-94b5-48e7-bf9f-9c7389ee848a",
        "colab": {
          "base_uri": "https://localhost:8080/",
          "height": 195
        }
      },
      "source": [
        "# Replacing class-attribute values \"AB\"(abnormal) to 1 and \"NO\"(normal) to 0\n",
        "df['class'].replace(['AB', 'NO'],[1, 0], inplace=True)\n",
        "df.tail()"
      ],
      "execution_count": 3,
      "outputs": [
        {
          "output_type": "execute_result",
          "data": {
            "text/html": [
              "<div>\n",
              "<style scoped>\n",
              "    .dataframe tbody tr th:only-of-type {\n",
              "        vertical-align: middle;\n",
              "    }\n",
              "\n",
              "    .dataframe tbody tr th {\n",
              "        vertical-align: top;\n",
              "    }\n",
              "\n",
              "    .dataframe thead th {\n",
              "        text-align: right;\n",
              "    }\n",
              "</style>\n",
              "<table border=\"1\" class=\"dataframe\">\n",
              "  <thead>\n",
              "    <tr style=\"text-align: right;\">\n",
              "      <th></th>\n",
              "      <th>pelvic_incidence</th>\n",
              "      <th>pelvic_tilt</th>\n",
              "      <th>lumbar_lordosis_angle</th>\n",
              "      <th>sacral_slope</th>\n",
              "      <th>pelvic_radius</th>\n",
              "      <th>grade_of_spondylolisthesis</th>\n",
              "      <th>class</th>\n",
              "    </tr>\n",
              "  </thead>\n",
              "  <tbody>\n",
              "    <tr>\n",
              "      <th>305</th>\n",
              "      <td>76.31</td>\n",
              "      <td>41.93</td>\n",
              "      <td>93.28</td>\n",
              "      <td>34.38</td>\n",
              "      <td>132.27</td>\n",
              "      <td>101.22</td>\n",
              "      <td>1</td>\n",
              "    </tr>\n",
              "    <tr>\n",
              "      <th>306</th>\n",
              "      <td>60.04</td>\n",
              "      <td>14.31</td>\n",
              "      <td>58.04</td>\n",
              "      <td>45.73</td>\n",
              "      <td>105.13</td>\n",
              "      <td>30.41</td>\n",
              "      <td>1</td>\n",
              "    </tr>\n",
              "    <tr>\n",
              "      <th>307</th>\n",
              "      <td>50.07</td>\n",
              "      <td>9.12</td>\n",
              "      <td>32.17</td>\n",
              "      <td>40.95</td>\n",
              "      <td>99.71</td>\n",
              "      <td>26.77</td>\n",
              "      <td>1</td>\n",
              "    </tr>\n",
              "    <tr>\n",
              "      <th>308</th>\n",
              "      <td>76.33</td>\n",
              "      <td>42.40</td>\n",
              "      <td>57.20</td>\n",
              "      <td>33.93</td>\n",
              "      <td>124.27</td>\n",
              "      <td>50.13</td>\n",
              "      <td>1</td>\n",
              "    </tr>\n",
              "    <tr>\n",
              "      <th>309</th>\n",
              "      <td>55.51</td>\n",
              "      <td>20.10</td>\n",
              "      <td>44.00</td>\n",
              "      <td>35.42</td>\n",
              "      <td>122.65</td>\n",
              "      <td>34.55</td>\n",
              "      <td>1</td>\n",
              "    </tr>\n",
              "  </tbody>\n",
              "</table>\n",
              "</div>"
            ],
            "text/plain": [
              "     pelvic_incidence  pelvic_tilt  ...  grade_of_spondylolisthesis  class\n",
              "305             76.31        41.93  ...                      101.22      1\n",
              "306             60.04        14.31  ...                       30.41      1\n",
              "307             50.07         9.12  ...                       26.77      1\n",
              "308             76.33        42.40  ...                       50.13      1\n",
              "309             55.51        20.10  ...                       34.55      1\n",
              "\n",
              "[5 rows x 7 columns]"
            ]
          },
          "metadata": {
            "tags": []
          },
          "execution_count": 3
        }
      ]
    },
    {
      "cell_type": "code",
      "metadata": {
        "id": "UNJ5PBLnZJmh",
        "colab_type": "code",
        "outputId": "738ff9ec-e2e3-4b18-8195-e64939af8e0d",
        "colab": {
          "base_uri": "https://localhost:8080/",
          "height": 284
        }
      },
      "source": [
        "#Mean, std, min and max\n",
        "df.describe()"
      ],
      "execution_count": 4,
      "outputs": [
        {
          "output_type": "execute_result",
          "data": {
            "text/html": [
              "<div>\n",
              "<style scoped>\n",
              "    .dataframe tbody tr th:only-of-type {\n",
              "        vertical-align: middle;\n",
              "    }\n",
              "\n",
              "    .dataframe tbody tr th {\n",
              "        vertical-align: top;\n",
              "    }\n",
              "\n",
              "    .dataframe thead th {\n",
              "        text-align: right;\n",
              "    }\n",
              "</style>\n",
              "<table border=\"1\" class=\"dataframe\">\n",
              "  <thead>\n",
              "    <tr style=\"text-align: right;\">\n",
              "      <th></th>\n",
              "      <th>pelvic_incidence</th>\n",
              "      <th>pelvic_tilt</th>\n",
              "      <th>lumbar_lordosis_angle</th>\n",
              "      <th>sacral_slope</th>\n",
              "      <th>pelvic_radius</th>\n",
              "      <th>grade_of_spondylolisthesis</th>\n",
              "      <th>class</th>\n",
              "    </tr>\n",
              "  </thead>\n",
              "  <tbody>\n",
              "    <tr>\n",
              "      <th>count</th>\n",
              "      <td>310.000000</td>\n",
              "      <td>310.000000</td>\n",
              "      <td>310.000000</td>\n",
              "      <td>310.000000</td>\n",
              "      <td>310.000000</td>\n",
              "      <td>310.000000</td>\n",
              "      <td>310.000000</td>\n",
              "    </tr>\n",
              "    <tr>\n",
              "      <th>mean</th>\n",
              "      <td>60.496484</td>\n",
              "      <td>17.542903</td>\n",
              "      <td>51.930710</td>\n",
              "      <td>42.953871</td>\n",
              "      <td>117.920548</td>\n",
              "      <td>26.296742</td>\n",
              "      <td>0.677419</td>\n",
              "    </tr>\n",
              "    <tr>\n",
              "      <th>std</th>\n",
              "      <td>17.236109</td>\n",
              "      <td>10.008140</td>\n",
              "      <td>18.553766</td>\n",
              "      <td>13.422748</td>\n",
              "      <td>13.317629</td>\n",
              "      <td>37.558883</td>\n",
              "      <td>0.468220</td>\n",
              "    </tr>\n",
              "    <tr>\n",
              "      <th>min</th>\n",
              "      <td>26.150000</td>\n",
              "      <td>-6.550000</td>\n",
              "      <td>14.000000</td>\n",
              "      <td>13.370000</td>\n",
              "      <td>70.080000</td>\n",
              "      <td>-11.060000</td>\n",
              "      <td>0.000000</td>\n",
              "    </tr>\n",
              "    <tr>\n",
              "      <th>25%</th>\n",
              "      <td>46.432500</td>\n",
              "      <td>10.667500</td>\n",
              "      <td>37.000000</td>\n",
              "      <td>33.347500</td>\n",
              "      <td>110.710000</td>\n",
              "      <td>1.600000</td>\n",
              "      <td>0.000000</td>\n",
              "    </tr>\n",
              "    <tr>\n",
              "      <th>50%</th>\n",
              "      <td>58.690000</td>\n",
              "      <td>16.360000</td>\n",
              "      <td>49.565000</td>\n",
              "      <td>42.405000</td>\n",
              "      <td>118.265000</td>\n",
              "      <td>11.765000</td>\n",
              "      <td>1.000000</td>\n",
              "    </tr>\n",
              "    <tr>\n",
              "      <th>75%</th>\n",
              "      <td>72.880000</td>\n",
              "      <td>22.120000</td>\n",
              "      <td>63.000000</td>\n",
              "      <td>52.692500</td>\n",
              "      <td>125.467500</td>\n",
              "      <td>41.285000</td>\n",
              "      <td>1.000000</td>\n",
              "    </tr>\n",
              "    <tr>\n",
              "      <th>max</th>\n",
              "      <td>129.830000</td>\n",
              "      <td>49.430000</td>\n",
              "      <td>125.740000</td>\n",
              "      <td>121.430000</td>\n",
              "      <td>163.070000</td>\n",
              "      <td>418.540000</td>\n",
              "      <td>1.000000</td>\n",
              "    </tr>\n",
              "  </tbody>\n",
              "</table>\n",
              "</div>"
            ],
            "text/plain": [
              "       pelvic_incidence  pelvic_tilt  ...  grade_of_spondylolisthesis       class\n",
              "count        310.000000   310.000000  ...                  310.000000  310.000000\n",
              "mean          60.496484    17.542903  ...                   26.296742    0.677419\n",
              "std           17.236109    10.008140  ...                   37.558883    0.468220\n",
              "min           26.150000    -6.550000  ...                  -11.060000    0.000000\n",
              "25%           46.432500    10.667500  ...                    1.600000    0.000000\n",
              "50%           58.690000    16.360000  ...                   11.765000    1.000000\n",
              "75%           72.880000    22.120000  ...                   41.285000    1.000000\n",
              "max          129.830000    49.430000  ...                  418.540000    1.000000\n",
              "\n",
              "[8 rows x 7 columns]"
            ]
          },
          "metadata": {
            "tags": []
          },
          "execution_count": 4
        }
      ]
    },
    {
      "cell_type": "code",
      "metadata": {
        "id": "JOdctZmJZJmk",
        "colab_type": "code",
        "outputId": "188c27d4-038a-44fb-e953-b3cc987566a1",
        "colab": {
          "base_uri": "https://localhost:8080/",
          "height": 34
        }
      },
      "source": [
        "# Splitting dataset to data and labels\n",
        "data = df.iloc[:,:6]\n",
        "labels = df.iloc[:,6]\n",
        "\n",
        "print(data.shape)"
      ],
      "execution_count": 5,
      "outputs": [
        {
          "output_type": "stream",
          "text": [
            "(310, 6)\n"
          ],
          "name": "stdout"
        }
      ]
    },
    {
      "cell_type": "markdown",
      "metadata": {
        "id": "dapkhEQDqH0W",
        "colab_type": "text"
      },
      "source": [
        "# Plotting the attribute correlations"
      ]
    },
    {
      "cell_type": "code",
      "metadata": {
        "id": "FgxjCgB5iu0z",
        "colab_type": "code",
        "outputId": "96377990-d969-4df8-9ec8-280bbc96273b",
        "colab": {
          "base_uri": "https://localhost:8080/",
          "height": 225
        }
      },
      "source": [
        "correlations = data.corr()\n",
        "correlations"
      ],
      "execution_count": 6,
      "outputs": [
        {
          "output_type": "execute_result",
          "data": {
            "text/html": [
              "<div>\n",
              "<style scoped>\n",
              "    .dataframe tbody tr th:only-of-type {\n",
              "        vertical-align: middle;\n",
              "    }\n",
              "\n",
              "    .dataframe tbody tr th {\n",
              "        vertical-align: top;\n",
              "    }\n",
              "\n",
              "    .dataframe thead th {\n",
              "        text-align: right;\n",
              "    }\n",
              "</style>\n",
              "<table border=\"1\" class=\"dataframe\">\n",
              "  <thead>\n",
              "    <tr style=\"text-align: right;\">\n",
              "      <th></th>\n",
              "      <th>pelvic_incidence</th>\n",
              "      <th>pelvic_tilt</th>\n",
              "      <th>lumbar_lordosis_angle</th>\n",
              "      <th>sacral_slope</th>\n",
              "      <th>pelvic_radius</th>\n",
              "      <th>grade_of_spondylolisthesis</th>\n",
              "    </tr>\n",
              "  </thead>\n",
              "  <tbody>\n",
              "    <tr>\n",
              "      <th>pelvic_incidence</th>\n",
              "      <td>1.000000</td>\n",
              "      <td>0.629186</td>\n",
              "      <td>0.717286</td>\n",
              "      <td>0.814959</td>\n",
              "      <td>-0.247484</td>\n",
              "      <td>0.638733</td>\n",
              "    </tr>\n",
              "    <tr>\n",
              "      <th>pelvic_tilt</th>\n",
              "      <td>0.629186</td>\n",
              "      <td>1.000000</td>\n",
              "      <td>0.432760</td>\n",
              "      <td>0.062327</td>\n",
              "      <td>0.032660</td>\n",
              "      <td>0.397840</td>\n",
              "    </tr>\n",
              "    <tr>\n",
              "      <th>lumbar_lordosis_angle</th>\n",
              "      <td>0.717286</td>\n",
              "      <td>0.432760</td>\n",
              "      <td>1.000000</td>\n",
              "      <td>0.598389</td>\n",
              "      <td>-0.080368</td>\n",
              "      <td>0.533665</td>\n",
              "    </tr>\n",
              "    <tr>\n",
              "      <th>sacral_slope</th>\n",
              "      <td>0.814959</td>\n",
              "      <td>0.062327</td>\n",
              "      <td>0.598389</td>\n",
              "      <td>1.000000</td>\n",
              "      <td>-0.342147</td>\n",
              "      <td>0.523571</td>\n",
              "    </tr>\n",
              "    <tr>\n",
              "      <th>pelvic_radius</th>\n",
              "      <td>-0.247484</td>\n",
              "      <td>0.032660</td>\n",
              "      <td>-0.080368</td>\n",
              "      <td>-0.342147</td>\n",
              "      <td>1.000000</td>\n",
              "      <td>-0.026073</td>\n",
              "    </tr>\n",
              "    <tr>\n",
              "      <th>grade_of_spondylolisthesis</th>\n",
              "      <td>0.638733</td>\n",
              "      <td>0.397840</td>\n",
              "      <td>0.533665</td>\n",
              "      <td>0.523571</td>\n",
              "      <td>-0.026073</td>\n",
              "      <td>1.000000</td>\n",
              "    </tr>\n",
              "  </tbody>\n",
              "</table>\n",
              "</div>"
            ],
            "text/plain": [
              "                            pelvic_incidence  ...  grade_of_spondylolisthesis\n",
              "pelvic_incidence                    1.000000  ...                    0.638733\n",
              "pelvic_tilt                         0.629186  ...                    0.397840\n",
              "lumbar_lordosis_angle               0.717286  ...                    0.533665\n",
              "sacral_slope                        0.814959  ...                    0.523571\n",
              "pelvic_radius                      -0.247484  ...                   -0.026073\n",
              "grade_of_spondylolisthesis          0.638733  ...                    1.000000\n",
              "\n",
              "[6 rows x 6 columns]"
            ]
          },
          "metadata": {
            "tags": []
          },
          "execution_count": 6
        }
      ]
    },
    {
      "cell_type": "code",
      "metadata": {
        "id": "rVXGr6nNjVWx",
        "colab_type": "code",
        "outputId": "49fd0714-32c0-4537-8d75-7ab537648d78",
        "colab": {
          "base_uri": "https://localhost:8080/",
          "height": 435
        }
      },
      "source": [
        "fig = plt.figure(figsize=(10, 7))\n",
        "ax = fig.add_subplot(111)\n",
        "cax = ax.matshow(correlations, vmin=-1, vmax=1)\n",
        "fig.colorbar(cax)\n",
        "ticks = np.arange(0,6,1)\n",
        "ax.set_xticks(ticks)\n",
        "ax.set_yticks(ticks)\n",
        "ax.set_xticklabels(data.columns.values)\n",
        "ax.set_yticklabels(data.columns.values)\n",
        "plt.show()"
      ],
      "execution_count": 7,
      "outputs": [
        {
          "output_type": "display_data",
          "data": {
            "image/png": "[encoded data removed]",
            "text/plain": [
              "<Figure size 720x504 with 2 Axes>"
            ]
          },
          "metadata": {
            "tags": []
          }
        }
      ]
    },
    {
      "cell_type": "markdown",
      "metadata": {
        "id": "O-nrLo3WuSUw",
        "colab_type": "text"
      },
      "source": [
        "A requirement for logistical regression analysis is that the features cannot be TOO correlated. The strongest correlation in this data are between <b>pelvic incidence</b> and <b>sacral slope</b> (correlation 0.81); also between <b>lumbar lordosis</b> angle and <b>pelvic incidence</b> (0.71). "
      ]
    },
    {
      "cell_type": "markdown",
      "metadata": {
        "id": "sFEKYNpFgVt2",
        "colab_type": "text"
      },
      "source": [
        "# Model\n",
        "Building and fitting a logistic regression model."
      ]
    },
    {
      "cell_type": "code",
      "metadata": {
        "id": "6eg_i81YZJmo",
        "colab_type": "code",
        "outputId": "94bab951-7be2-4920-c039-6786725b30fc",
        "colab": {
          "base_uri": "https://localhost:8080/",
          "height": 50
        }
      },
      "source": [
        "reg = LogisticRegression()\n",
        "reg.fit(data, labels) # Fitting the data to the model\n",
        "\n",
        "print(\"Coefficients: \",reg.coef_)\n",
        "print(\"Intercept: \", reg.intercept_)\n"
      ],
      "execution_count": 8,
      "outputs": [
        {
          "output_type": "stream",
          "text": [
            "Coefficients:  [[-0.03205038  0.10757546 -0.01869301 -0.06459006 -0.10677264  0.16808262]]\n",
            "Intercept:  [15.15571757]\n"
          ],
          "name": "stdout"
        }
      ]
    },
    {
      "cell_type": "markdown",
      "metadata": {
        "id": "hGRaZvL_gaFO",
        "colab_type": "text"
      },
      "source": [
        "# Confusion matrix\n",
        "- Positive in our case means having abnormalities\n",
        "- True positive as tp (top left in the matrix)\n",
        "- False negative as fn (top right in the matrix)\n",
        "- True negative as tn (bottom right in the matrix)\n",
        "- False positive as fp (bottom left in the matrix)\n",
        "\n"
      ]
    },
    {
      "cell_type": "code",
      "metadata": {
        "id": "MMxNsP8gZJmr",
        "colab_type": "code",
        "colab": {}
      },
      "source": [
        "labels_pred = reg.predict(data)"
      ],
      "execution_count": 0,
      "outputs": []
    },
    {
      "cell_type": "code",
      "metadata": {
        "id": "uXYOCBo_Snav",
        "colab_type": "code",
        "colab": {
          "base_uri": "https://localhost:8080/",
          "height": 67
        },
        "outputId": "38fe3c53-3394-41d1-dc33-725c0831f3c8"
      },
      "source": [
        "tn, fp, fn, tp = confusion_matrix(labels, labels_pred).ravel()\n",
        "\n",
        "print(\"Confusion matrix:\\n\", np.array([[tp, fn],[fp, tn]]))"
      ],
      "execution_count": 24,
      "outputs": [
        {
          "output_type": "stream",
          "text": [
            "Confusion matrix:\n",
            " [[188  22]\n",
            " [ 22  78]]\n"
          ],
          "name": "stdout"
        }
      ]
    },
    {
      "cell_type": "markdown",
      "metadata": {
        "id": "NDkTbrU3gdaS",
        "colab_type": "text"
      },
      "source": [
        "# Classification report\n",
        "Precision and recall for abnormal samples is substantilly better compared to normal samples since the dataset is rather small and there are only 100 samples that are considered normal.<br>Support for normal is 100/310 and for abnormal it is 210/310."
      ]
    },
    {
      "cell_type": "code",
      "metadata": {
        "id": "JXbPd4SSZJmu",
        "colab_type": "code",
        "outputId": "18b7985b-54de-4c57-9579-11c41e2bff05",
        "colab": {
          "base_uri": "https://localhost:8080/",
          "height": 168
        }
      },
      "source": [
        "print(classification_report(labels, labels_pred, target_names=['normal', 'abnormal']))"
      ],
      "execution_count": 16,
      "outputs": [
        {
          "output_type": "stream",
          "text": [
            "              precision    recall  f1-score   support\n",
            "\n",
            "      normal       0.78      0.78      0.78       100\n",
            "    abnormal       0.90      0.90      0.90       210\n",
            "\n",
            "    accuracy                           0.86       310\n",
            "   macro avg       0.84      0.84      0.84       310\n",
            "weighted avg       0.86      0.86      0.86       310\n",
            "\n"
          ],
          "name": "stdout"
        }
      ]
    },
    {
      "cell_type": "markdown",
      "metadata": {
        "id": "wbJmL6WNggWl",
        "colab_type": "text"
      },
      "source": [
        "# Cross validation\n",
        "The dataset is so small that model validation is done using cross validation with 10 folds. This resulted in an accuracy of 84%"
      ]
    },
    {
      "cell_type": "code",
      "metadata": {
        "id": "u_Y05TyDZJmx",
        "colab_type": "code",
        "outputId": "3aaee03f-aa8b-440d-c74f-fdf6a5a0c22e",
        "colab": {
          "base_uri": "https://localhost:8080/",
          "height": 101
        }
      },
      "source": [
        "k = 10 # Amount of folds\n",
        "scores = cross_val_score(estimator=reg,\n",
        "                        X=data,\n",
        "                        y=labels, # Actual values\n",
        "                        scoring=\"accuracy\", # Scoring is based on the accuracy of predictions\n",
        "                        cv=k)\n",
        "print(\"Accuracies from %d individual folds:\" % k)\n",
        "print(scores)\n",
        "print(\"\\nAccuracy calculated using %d-fold cross validation = %.3f\" % (k, scores.mean()))"
      ],
      "execution_count": 11,
      "outputs": [
        {
          "output_type": "stream",
          "text": [
            "Accuracies from 10 individual folds:\n",
            "[0.83870968 0.80645161 0.80645161 0.90322581 0.80645161 0.83870968\n",
            " 0.90322581 0.77419355 0.87096774 0.93548387]\n",
            "\n",
            "Accuracy calculated using 10-fold cross validation = 0.848\n"
          ],
          "name": "stdout"
        }
      ]
    },
    {
      "cell_type": "markdown",
      "metadata": {
        "id": "nC1fSkwsgk8s",
        "colab_type": "text"
      },
      "source": [
        "# Prediction probabilities\n"
      ]
    },
    {
      "cell_type": "code",
      "metadata": {
        "id": "Tp92n7IUZJm0",
        "colab_type": "code",
        "outputId": "6fc3f7e2-af8a-4bfa-c604-9d09f6bb15ca",
        "colab": {
          "base_uri": "https://localhost:8080/",
          "height": 185
        }
      },
      "source": [
        "arr = np.array(reg.predict_proba(data))\n",
        "np.set_printoptions(suppress=True)\n",
        "print(arr[:10])\n",
        "# Predictions [0, 1]\n",
        "# Every row is a patient\n",
        "# Leftmost value is the propability for not having vertebral abnormalities\n",
        "# Rightmost value is the propability for having vertebral abnormalities"
      ],
      "execution_count": 12,
      "outputs": [
        {
          "output_type": "stream",
          "text": [
            "[[0.000066   0.999934  ]\n",
            " [0.12466013 0.87533987]\n",
            " [0.40953154 0.59046846]\n",
            " [0.00035234 0.99964766]\n",
            " [0.63008472 0.36991528]\n",
            " [0.55414431 0.44585569]\n",
            " [0.02536596 0.97463404]\n",
            " [0.0000002  0.9999998 ]\n",
            " [0.0599724  0.9400276 ]\n",
            " [0.73051785 0.26948215]]\n"
          ],
          "name": "stdout"
        }
      ]
    },
    {
      "cell_type": "markdown",
      "metadata": {
        "id": "CPCuYDENgoNi",
        "colab_type": "text"
      },
      "source": [
        "# Demo program for trying to predict whether patient has abnormalities or not"
      ]
    },
    {
      "cell_type": "code",
      "metadata": {
        "id": "ytexjTQQZJm4",
        "colab_type": "code",
        "outputId": "756bf15f-63d7-40ac-a490-76702c966f86",
        "colab": {
          "base_uri": "https://localhost:8080/",
          "height": 302
        }
      },
      "source": [
        "# These are the values the doctor or patient would give as an input\n",
        "testPelvicIncidence = input(\"Give pelvic incidence:\\n\")\n",
        "testPelvicTilt = input(\"Give pelvic tilt:\\n\")\n",
        "testLumbarLondosisAngle = input(\"Give lumbar londosis angle:\\n\")\n",
        "testSacralSlope = input(\"Give sacral lope:\\n\")\n",
        "testPelvicRadius = input(\"Give pelvic radius:\\n\")\n",
        "testGradeOfSpondylolisthesis = input(\"Give grade of spondylolisthesis:\\n\")\n",
        "\n",
        "# Here the data is given to the model for predicting if the patient has abnormalities or not\n",
        "testPerson = pd.DataFrame(np.array([testPelvicIncidence, testPelvicTilt, testLumbarLondosisAngle, testSacralSlope, testPelvicRadius, testGradeOfSpondylolisthesis]).reshape(1, 6))\n",
        "pred = reg.predict_proba(testPerson)\n",
        "\n",
        "# Printing the propabilities of the prediction and giving an output based on the prediction of the patients state\n",
        "print(\"\\nProbabilities:\\n\", pred, \"\\n\")\n",
        "\n",
        "if pred[0][0] > pred[0][1]:\n",
        "  print(\"The patient is healthy with a probability of %.2f\"% (pred[0][0]*100) + \"%\")\n",
        "else:\n",
        "  print(\"The patient has a vertebral abnormality with a probability of %.2f\"% (pred[0][1]*100) + \"%\")"
      ],
      "execution_count": 25,
      "outputs": [
        {
          "output_type": "stream",
          "text": [
            "Give pelvic incidence:\n",
            "10\n",
            "Give pelvic tilt:\n",
            "-4\n",
            "Give lumbar londosis angle:\n",
            "25\n",
            "Give sacral lope:\n",
            "-0.5\n",
            "Give pelvic radius:\n",
            "12\n",
            "Give grade of spondylolisthesis:\n",
            "1\n",
            "\n",
            "Probabilities:\n",
            " [[0.00000261 0.99999739]] \n",
            "\n",
            "The patient has a vertebral abnormality with a probability of 100.00%\n"
          ],
          "name": "stdout"
        }
      ]
    },
    {
      "cell_type": "code",
      "metadata": {
        "id": "NWR76HKorPif",
        "colab_type": "code",
        "colab": {}
      },
      "source": [
        ""
      ],
      "execution_count": 0,
      "outputs": []
    },
    {
      "cell_type": "markdown",
      "metadata": {
        "id": "n3AzXgePW7CG",
        "colab_type": "text"
      },
      "source": [
        "## Results\n",
        "The demo program works as expected, though for the lack of a large data set more model testing is needed with data not used in training. Model accuracy could be thus improved from the present 85%, and especially classification to class \"normal\" has room for improvement. "
      ]
    },
    {
      "cell_type": "code",
      "metadata": {
        "id": "JaTOMvv3Xc_Y",
        "colab_type": "code",
        "colab": {}
      },
      "source": [
        ""
      ],
      "execution_count": 0,
      "outputs": []
    }
  ]
}