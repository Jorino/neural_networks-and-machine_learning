{
  "nbformat": 4,
  "nbformat_minor": 0,
  "metadata": {
    "colab": {
      "name": "Group11-LinearRegression.ipynb",
      "provenance": [],
      "collapsed_sections": []
    },
    "kernelspec": {
      "name": "python3",
      "display_name": "Python 3"
    }
  },
  "cells": [
    {
      "cell_type": "markdown",
      "metadata": {
        "id": "i2QBLnXJPPah",
        "colab_type": "text"
      },
      "source": [
        "# Assignment 4 - Linear regression\n",
        "Mathematics and Methods in Machine Learning and Neural Networks<br>\n",
        "Jori Nordlund, Simo Ojala, Esa Ryömä<br>\n",
        "Helsinki Metropolia University of Applied sciences<br>\n",
        "07.02.2020\n"
      ]
    },
    {
      "cell_type": "markdown",
      "metadata": {
        "id": "iTxmA7RxP6QX",
        "colab_type": "text"
      },
      "source": [
        "First, choose either red or white wines as the target of the study.\n",
        "\n",
        "Then choose a trait from two options:\n",
        " \n",
        "1) wine quality or \n",
        "\n",
        "2) wine alcohol content, \n",
        "\n",
        "whichever you\n",
        "find more interesting.\n",
        "Now, your task is to build a regression model that predicts the values of your chosen response\n",
        "variable as well as possible.\n"
      ]
    },
    {
      "cell_type": "markdown",
      "metadata": {
        "id": "00REDyJyPkFm",
        "colab_type": "text"
      },
      "source": [
        "You should provide evidence-based answers to the following questions:\n",
        "1. What is the regression equation for estimating your chosen trait values?\n",
        "2. What are the five most useful variables for estimating the trait values?\n",
        "3. Provide a validation-based error estimate for your model. As the data set is large, use\n",
        "split validation that divides the data set into separate training and testing sets.\n",
        "\n",
        "Your deliverable should include both the Python codes and the results needed to verify the\n",
        "conclusions.\n",
        "\n",
        "Submit your work preferably in pdf format. The deliverable should contain the information\n",
        "specified in the points 1 to 3 above."
      ]
    },
    {
      "cell_type": "code",
      "metadata": {
        "id": "3PBVtBuAPLU4",
        "colab_type": "code",
        "colab": {}
      },
      "source": [
        "import pandas as pd\n",
        "import numpy as np\n",
        "import matplotlib.pyplot as plt\n",
        "from sklearn import linear_model as lm\n",
        "from sklearn.model_selection import train_test_split as split\n",
        "from sklearn.metrics import mean_squared_error, r2_score\n",
        "from sklearn.preprocessing import StandardScaler"
      ],
      "execution_count": 0,
      "outputs": []
    },
    {
      "cell_type": "markdown",
      "metadata": {
        "id": "MRYBUfuDuFyv",
        "colab_type": "text"
      },
      "source": [
        "## Data"
      ]
    },
    {
      "cell_type": "code",
      "metadata": {
        "id": "XBXdsMW7RuMS",
        "colab_type": "code",
        "outputId": "bb517ab9-9a71-4a2b-d689-8f4a10a1aba6",
        "colab": {
          "base_uri": "https://localhost:8080/",
          "height": 359
        }
      },
      "source": [
        "filename = r'https://raw.githubusercontent.com/esaryoma/machine-learning-datasets/master/wine/winequality-red.csv'\n",
        "df = pd.read_csv(filename,\n",
        "                index_col = None,\n",
        "                sep = ';',\n",
        "                na_values='?')\n",
        "df.head(10)"
      ],
      "execution_count": 0,
      "outputs": [
        {
          "output_type": "execute_result",
          "data": {
            "text/html": [
              "<div>\n",
              "<style scoped>\n",
              "    .dataframe tbody tr th:only-of-type {\n",
              "        vertical-align: middle;\n",
              "    }\n",
              "\n",
              "    .dataframe tbody tr th {\n",
              "        vertical-align: top;\n",
              "    }\n",
              "\n",
              "    .dataframe thead th {\n",
              "        text-align: right;\n",
              "    }\n",
              "</style>\n",
              "<table border=\"1\" class=\"dataframe\">\n",
              "  <thead>\n",
              "    <tr style=\"text-align: right;\">\n",
              "      <th></th>\n",
              "      <th>fixed acidity</th>\n",
              "      <th>volatile acidity</th>\n",
              "      <th>citric acid</th>\n",
              "      <th>residual sugar</th>\n",
              "      <th>chlorides</th>\n",
              "      <th>free sulfur dioxide</th>\n",
              "      <th>total sulfur dioxide</th>\n",
              "      <th>density</th>\n",
              "      <th>pH</th>\n",
              "      <th>sulphates</th>\n",
              "      <th>alcohol</th>\n",
              "      <th>quality</th>\n",
              "    </tr>\n",
              "  </thead>\n",
              "  <tbody>\n",
              "    <tr>\n",
              "      <th>0</th>\n",
              "      <td>7.4</td>\n",
              "      <td>0.70</td>\n",
              "      <td>0.00</td>\n",
              "      <td>1.9</td>\n",
              "      <td>0.076</td>\n",
              "      <td>11.0</td>\n",
              "      <td>34.0</td>\n",
              "      <td>0.9978</td>\n",
              "      <td>3.51</td>\n",
              "      <td>0.56</td>\n",
              "      <td>9.4</td>\n",
              "      <td>5</td>\n",
              "    </tr>\n",
              "    <tr>\n",
              "      <th>1</th>\n",
              "      <td>7.8</td>\n",
              "      <td>0.88</td>\n",
              "      <td>0.00</td>\n",
              "      <td>2.6</td>\n",
              "      <td>0.098</td>\n",
              "      <td>25.0</td>\n",
              "      <td>67.0</td>\n",
              "      <td>0.9968</td>\n",
              "      <td>3.20</td>\n",
              "      <td>0.68</td>\n",
              "      <td>9.8</td>\n",
              "      <td>5</td>\n",
              "    </tr>\n",
              "    <tr>\n",
              "      <th>2</th>\n",
              "      <td>7.8</td>\n",
              "      <td>0.76</td>\n",
              "      <td>0.04</td>\n",
              "      <td>2.3</td>\n",
              "      <td>0.092</td>\n",
              "      <td>15.0</td>\n",
              "      <td>54.0</td>\n",
              "      <td>0.9970</td>\n",
              "      <td>3.26</td>\n",
              "      <td>0.65</td>\n",
              "      <td>9.8</td>\n",
              "      <td>5</td>\n",
              "    </tr>\n",
              "    <tr>\n",
              "      <th>3</th>\n",
              "      <td>11.2</td>\n",
              "      <td>0.28</td>\n",
              "      <td>0.56</td>\n",
              "      <td>1.9</td>\n",
              "      <td>0.075</td>\n",
              "      <td>17.0</td>\n",
              "      <td>60.0</td>\n",
              "      <td>0.9980</td>\n",
              "      <td>3.16</td>\n",
              "      <td>0.58</td>\n",
              "      <td>9.8</td>\n",
              "      <td>6</td>\n",
              "    </tr>\n",
              "    <tr>\n",
              "      <th>4</th>\n",
              "      <td>7.4</td>\n",
              "      <td>0.70</td>\n",
              "      <td>0.00</td>\n",
              "      <td>1.9</td>\n",
              "      <td>0.076</td>\n",
              "      <td>11.0</td>\n",
              "      <td>34.0</td>\n",
              "      <td>0.9978</td>\n",
              "      <td>3.51</td>\n",
              "      <td>0.56</td>\n",
              "      <td>9.4</td>\n",
              "      <td>5</td>\n",
              "    </tr>\n",
              "    <tr>\n",
              "      <th>5</th>\n",
              "      <td>7.4</td>\n",
              "      <td>0.66</td>\n",
              "      <td>0.00</td>\n",
              "      <td>1.8</td>\n",
              "      <td>0.075</td>\n",
              "      <td>13.0</td>\n",
              "      <td>40.0</td>\n",
              "      <td>0.9978</td>\n",
              "      <td>3.51</td>\n",
              "      <td>0.56</td>\n",
              "      <td>9.4</td>\n",
              "      <td>5</td>\n",
              "    </tr>\n",
              "    <tr>\n",
              "      <th>6</th>\n",
              "      <td>7.9</td>\n",
              "      <td>0.60</td>\n",
              "      <td>0.06</td>\n",
              "      <td>1.6</td>\n",
              "      <td>0.069</td>\n",
              "      <td>15.0</td>\n",
              "      <td>59.0</td>\n",
              "      <td>0.9964</td>\n",
              "      <td>3.30</td>\n",
              "      <td>0.46</td>\n",
              "      <td>9.4</td>\n",
              "      <td>5</td>\n",
              "    </tr>\n",
              "    <tr>\n",
              "      <th>7</th>\n",
              "      <td>7.3</td>\n",
              "      <td>0.65</td>\n",
              "      <td>0.00</td>\n",
              "      <td>1.2</td>\n",
              "      <td>0.065</td>\n",
              "      <td>15.0</td>\n",
              "      <td>21.0</td>\n",
              "      <td>0.9946</td>\n",
              "      <td>3.39</td>\n",
              "      <td>0.47</td>\n",
              "      <td>10.0</td>\n",
              "      <td>7</td>\n",
              "    </tr>\n",
              "    <tr>\n",
              "      <th>8</th>\n",
              "      <td>7.8</td>\n",
              "      <td>0.58</td>\n",
              "      <td>0.02</td>\n",
              "      <td>2.0</td>\n",
              "      <td>0.073</td>\n",
              "      <td>9.0</td>\n",
              "      <td>18.0</td>\n",
              "      <td>0.9968</td>\n",
              "      <td>3.36</td>\n",
              "      <td>0.57</td>\n",
              "      <td>9.5</td>\n",
              "      <td>7</td>\n",
              "    </tr>\n",
              "    <tr>\n",
              "      <th>9</th>\n",
              "      <td>7.5</td>\n",
              "      <td>0.50</td>\n",
              "      <td>0.36</td>\n",
              "      <td>6.1</td>\n",
              "      <td>0.071</td>\n",
              "      <td>17.0</td>\n",
              "      <td>102.0</td>\n",
              "      <td>0.9978</td>\n",
              "      <td>3.35</td>\n",
              "      <td>0.80</td>\n",
              "      <td>10.5</td>\n",
              "      <td>5</td>\n",
              "    </tr>\n",
              "  </tbody>\n",
              "</table>\n",
              "</div>"
            ],
            "text/plain": [
              "   fixed acidity  volatile acidity  citric acid  ...  sulphates  alcohol  quality\n",
              "0            7.4              0.70         0.00  ...       0.56      9.4        5\n",
              "1            7.8              0.88         0.00  ...       0.68      9.8        5\n",
              "2            7.8              0.76         0.04  ...       0.65      9.8        5\n",
              "3           11.2              0.28         0.56  ...       0.58      9.8        6\n",
              "4            7.4              0.70         0.00  ...       0.56      9.4        5\n",
              "5            7.4              0.66         0.00  ...       0.56      9.4        5\n",
              "6            7.9              0.60         0.06  ...       0.46      9.4        5\n",
              "7            7.3              0.65         0.00  ...       0.47     10.0        7\n",
              "8            7.8              0.58         0.02  ...       0.57      9.5        7\n",
              "9            7.5              0.50         0.36  ...       0.80     10.5        5\n",
              "\n",
              "[10 rows x 12 columns]"
            ]
          },
          "metadata": {
            "tags": []
          },
          "execution_count": 2
        }
      ]
    },
    {
      "cell_type": "code",
      "metadata": {
        "id": "wLaGLG8NSPwM",
        "colab_type": "code",
        "outputId": "976498fd-54f1-434d-c58a-df9c962f6ef9",
        "colab": {
          "base_uri": "https://localhost:8080/",
          "height": 255
        }
      },
      "source": [
        "# Save column names for later\n",
        "colNames = df.columns.array\n",
        "\n",
        "colNames = colNames[0:11]\n",
        "\n",
        "\n",
        "scaler = StandardScaler()\n",
        "\n",
        "# Splitting dataset to data and labels\n",
        "data = df.loc[:, 'fixed acidity':'alcohol']\n",
        "labels = df.loc[:, 'quality']\n",
        "\n",
        "\n",
        "#Standardize data\n",
        "dfn = scaler.fit_transform(data)\n",
        "dfn = pd.DataFrame(dfn)\n",
        "dfn.columns = colNames\n",
        "print(dfn)\n",
        "\n",
        "# Splitting data so that different samples are used for training and validating the model\n",
        "# Training data is approximately 2/3 of all the data and 1/3 is left for the validation\n",
        "trainingData, validationData, trainingLabels, validationLabels = split(dfn,labels, train_size=0.66, shuffle = False)"
      ],
      "execution_count": 0,
      "outputs": [
        {
          "output_type": "stream",
          "text": [
            "      fixed acidity  volatile acidity  ...  sulphates   alcohol\n",
            "0         -0.528360          0.961877  ...  -0.579207 -0.960246\n",
            "1         -0.298547          1.967442  ...   0.128950 -0.584777\n",
            "2         -0.298547          1.297065  ...  -0.048089 -0.584777\n",
            "3          1.654856         -1.384443  ...  -0.461180 -0.584777\n",
            "4         -0.528360          0.961877  ...  -0.579207 -0.960246\n",
            "...             ...               ...  ...        ...       ...\n",
            "1594      -1.217796          0.403229  ...  -0.461180  0.072294\n",
            "1595      -1.390155          0.123905  ...   0.601055  0.729364\n",
            "1596      -1.160343         -0.099554  ...   0.542042  0.541630\n",
            "1597      -1.390155          0.654620  ...   0.305990 -0.209308\n",
            "1598      -1.332702         -1.216849  ...   0.010924  0.541630\n",
            "\n",
            "[1599 rows x 11 columns]\n"
          ],
          "name": "stdout"
        }
      ]
    },
    {
      "cell_type": "markdown",
      "metadata": {
        "id": "XvzaSUP4t_-4",
        "colab_type": "text"
      },
      "source": [
        "## Linear regression model\n",
        "Creating the linear regressiong model and fitting the data."
      ]
    },
    {
      "cell_type": "code",
      "metadata": {
        "id": "lSlyTSM4Smoq",
        "colab_type": "code",
        "outputId": "28d2c5b4-abcd-48a3-c036-043781cd2532",
        "colab": {
          "base_uri": "https://localhost:8080/",
          "height": 34
        }
      },
      "source": [
        "reg = lm.LinearRegression()\n",
        "reg.fit(trainingData, trainingLabels)"
      ],
      "execution_count": 0,
      "outputs": [
        {
          "output_type": "execute_result",
          "data": {
            "text/plain": [
              "LinearRegression(copy_X=True, fit_intercept=True, n_jobs=None, normalize=False)"
            ]
          },
          "metadata": {
            "tags": []
          },
          "execution_count": 4
        }
      ]
    },
    {
      "cell_type": "markdown",
      "metadata": {
        "id": "GvM8-AfGt44k",
        "colab_type": "text"
      },
      "source": [
        "## Coefficients\n",
        "Printing the coefficients and deducting which variables have the most impact on the quality of the wine."
      ]
    },
    {
      "cell_type": "code",
      "metadata": {
        "id": "U14k2Z4dX3aw",
        "colab_type": "code",
        "outputId": "26460232-1fd9-4035-e7a3-11c3b88ec76c",
        "colab": {
          "base_uri": "https://localhost:8080/",
          "height": 131
        }
      },
      "source": [
        "print(\"Coefficients:\" ,reg.coef_)\n",
        "print(\"Intercept:\", reg.intercept_)\n",
        "pasld= pd.DataFrame(reg.coef_.reshape(-1,11))\n",
        "pasld.columns = colNames\n",
        "pasld\n",
        "# Regression equation\n",
        "# Most important variables"
      ],
      "execution_count": 0,
      "outputs": [
        {
          "output_type": "stream",
          "text": [
            "Coefficients: [ 0.06937073 -0.17963069 -0.05168847  0.04891476 -0.07038944  0.0292211\n",
            " -0.14399338 -0.06135089 -0.03168817  0.12487191  0.29585615]\n",
            "Intercept: 5.664236139287756\n"
          ],
          "name": "stdout"
        },
        {
          "output_type": "execute_result",
          "data": {
            "text/html": [
              "<div>\n",
              "<style scoped>\n",
              "    .dataframe tbody tr th:only-of-type {\n",
              "        vertical-align: middle;\n",
              "    }\n",
              "\n",
              "    .dataframe tbody tr th {\n",
              "        vertical-align: top;\n",
              "    }\n",
              "\n",
              "    .dataframe thead th {\n",
              "        text-align: right;\n",
              "    }\n",
              "</style>\n",
              "<table border=\"1\" class=\"dataframe\">\n",
              "  <thead>\n",
              "    <tr style=\"text-align: right;\">\n",
              "      <th></th>\n",
              "      <th>fixed acidity</th>\n",
              "      <th>volatile acidity</th>\n",
              "      <th>citric acid</th>\n",
              "      <th>residual sugar</th>\n",
              "      <th>chlorides</th>\n",
              "      <th>free sulfur dioxide</th>\n",
              "      <th>total sulfur dioxide</th>\n",
              "      <th>density</th>\n",
              "      <th>pH</th>\n",
              "      <th>sulphates</th>\n",
              "      <th>alcohol</th>\n",
              "    </tr>\n",
              "  </thead>\n",
              "  <tbody>\n",
              "    <tr>\n",
              "      <th>0</th>\n",
              "      <td>0.069371</td>\n",
              "      <td>-0.179631</td>\n",
              "      <td>-0.051688</td>\n",
              "      <td>0.048915</td>\n",
              "      <td>-0.070389</td>\n",
              "      <td>0.029221</td>\n",
              "      <td>-0.143993</td>\n",
              "      <td>-0.061351</td>\n",
              "      <td>-0.031688</td>\n",
              "      <td>0.124872</td>\n",
              "      <td>0.295856</td>\n",
              "    </tr>\n",
              "  </tbody>\n",
              "</table>\n",
              "</div>"
            ],
            "text/plain": [
              "   fixed acidity  volatile acidity  citric acid  ...        pH  sulphates   alcohol\n",
              "0       0.069371         -0.179631    -0.051688  ... -0.031688   0.124872  0.295856\n",
              "\n",
              "[1 rows x 11 columns]"
            ]
          },
          "metadata": {
            "tags": []
          },
          "execution_count": 5
        }
      ]
    },
    {
      "cell_type": "markdown",
      "metadata": {
        "id": "SCTGt9y9wJrv",
        "colab_type": "text"
      },
      "source": [
        "## Top 5 Variables:\n",
        "- Alcohol (0.296)\n",
        "- Volatile acidity (-0.180)\n",
        "- Total sulfur dioxide (-0.144)\n",
        "- Sulphates (0.125)\n",
        "- Fixed acidity (0.07)\n"
      ]
    },
    {
      "cell_type": "markdown",
      "metadata": {
        "id": "shyd84CYsQk8",
        "colab_type": "text"
      },
      "source": [
        "## Regression equation\n",
        "With our linear regression we got the following regression equation:<br><br>\n",
        "quality = <br>\n",
        "fixed acidity * 0.069371 + volatile acidity * -0.179631 + citric acid * -0.051688 + residual sugar * 0.048915 + chlorides * -0.070389 + <br> \n",
        "free sulfur dioxide * 0.029221 + total sulfur dioxide * - 0.143993 + density * -0.061351 + pH * -0.031688 + sulphates * 0.124872 + <br>\n",
        "alcohol * 0.295856 + Intercept, <br>\n",
        "where Intercept = 5.664236"
      ]
    },
    {
      "cell_type": "markdown",
      "metadata": {
        "id": "KlIuo8IgqJ9u",
        "colab_type": "text"
      },
      "source": [
        "## Validation\n",
        "Testing the models performance with validation data and calculating mean squared error (MSE) and R^2 (R2s) values."
      ]
    },
    {
      "cell_type": "code",
      "metadata": {
        "id": "0-OUKKdOf0QW",
        "colab_type": "code",
        "outputId": "f8966bba-bb28-40ff-976f-2fe7d935037f",
        "colab": {
          "base_uri": "https://localhost:8080/",
          "height": 51
        }
      },
      "source": [
        "# compute predicted values\n",
        "Y_pred = reg.predict(validationData)\n",
        "\n",
        "# compute error statistics\n",
        "mse = mean_squared_error(validationLabels, Y_pred)\n",
        "r2s = r2_score(validationLabels, Y_pred) \n",
        "print(\"MSE = \", mse)\n",
        "print(\"R2s = \", r2s)"
      ],
      "execution_count": 0,
      "outputs": [
        {
          "output_type": "stream",
          "text": [
            "MSE =  0.4488574299203903\n",
            "R2s =  0.32004610874034756\n"
          ],
          "name": "stdout"
        }
      ]
    },
    {
      "cell_type": "markdown",
      "metadata": {
        "id": "ARaf91c1q_72",
        "colab_type": "text"
      },
      "source": [
        "Comparison of the actual values vs the predicted values with the calculated residual."
      ]
    },
    {
      "cell_type": "code",
      "metadata": {
        "id": "NEl3vvCIgG-a",
        "colab_type": "code",
        "outputId": "1b107943-71df-4805-8a55-9862e0d6fe88",
        "colab": {
          "base_uri": "https://localhost:8080/",
          "height": 255
        }
      },
      "source": [
        "df2 = pd.DataFrame({'Actual': validationLabels, 'Predicted': Y_pred, 'Residual': pd.Series(validationLabels-Y_pred)})\n",
        "print(df2)"
      ],
      "execution_count": 0,
      "outputs": [
        {
          "output_type": "stream",
          "text": [
            "      Actual  Predicted  Residual\n",
            "1055       6   4.971250  1.028750\n",
            "1056       7   6.285870  0.714130\n",
            "1057       5   5.180255 -0.180255\n",
            "1058       7   6.063124  0.936876\n",
            "1059       7   6.285870  0.714130\n",
            "...      ...        ...       ...\n",
            "1594       5   5.586723 -0.586723\n",
            "1595       6   5.962889  0.037111\n",
            "1596       6   5.951216  0.048784\n",
            "1597       5   5.510745 -0.510745\n",
            "1598       6   6.016766 -0.016766\n",
            "\n",
            "[544 rows x 3 columns]\n"
          ],
          "name": "stdout"
        }
      ]
    },
    {
      "cell_type": "markdown",
      "metadata": {
        "id": "HyLJZjHwtrkM",
        "colab_type": "text"
      },
      "source": [
        "## Observed and predicted values"
      ]
    },
    {
      "cell_type": "code",
      "metadata": {
        "id": "drON5pgog3E9",
        "colab_type": "code",
        "outputId": "859387bc-fe4c-486f-c925-c7b5ec31f402",
        "colab": {
          "base_uri": "https://localhost:8080/",
          "height": 296
        }
      },
      "source": [
        "\n",
        "df2.plot.scatter(x='Actual',y='Predicted')\n",
        "plt.plot(Y_pred, Y_pred, '-b', linewidth = 1)\n",
        "plt.figure(figsize=(15,10))\n",
        "plt.show()\n",
        "\n"
      ],
      "execution_count": 0,
      "outputs": [
        {
          "output_type": "display_data",
          "data": {
            "image/png": "[encoded data removed]",
            "text/plain": [
              "<Figure size 432x288 with 1 Axes>"
            ]
          },
          "metadata": {
            "tags": []
          }
        },
        {
          "output_type": "display_data",
          "data": {
            "text/plain": [
              "<Figure size 1080x720 with 0 Axes>"
            ]
          },
          "metadata": {
            "tags": []
          }
        }
      ]
    },
    {
      "cell_type": "markdown",
      "metadata": {
        "id": "THwkhFTstx_T",
        "colab_type": "text"
      },
      "source": [
        "## Actual values and residual"
      ]
    },
    {
      "cell_type": "code",
      "metadata": {
        "id": "AHi_gQZ4pMtG",
        "colab_type": "code",
        "outputId": "d0f01610-0d79-457d-ef74-1aa469736550",
        "colab": {
          "base_uri": "https://localhost:8080/",
          "height": 298
        }
      },
      "source": [
        "plt.figure(figsize=(15,10))\n",
        "df2.plot.scatter(x='Actual',y='Residual')\n",
        "plt.plot([0,10],[0,0],'-b',linewidth=1)\n",
        "plt.show()"
      ],
      "execution_count": 0,
      "outputs": [
        {
          "output_type": "display_data",
          "data": {
            "text/plain": [
              "<Figure size 1080x720 with 0 Axes>"
            ]
          },
          "metadata": {
            "tags": []
          }
        },
        {
          "output_type": "display_data",
          "data": {
            "image/png": "[encoded data removed]",
            "text/plain": [
              "<Figure size 432x288 with 1 Axes>"
            ]
          },
          "metadata": {
            "tags": []
          }
        }
      ]
    },
    {
      "cell_type": "code",
      "metadata": {
        "id": "21kagYpVrWAx",
        "colab_type": "code",
        "outputId": "3bdcf6ff-029e-4178-9683-da92e2fee83b",
        "colab": {
          "base_uri": "https://localhost:8080/",
          "height": 272
        }
      },
      "source": [
        "print(df2.Residual)\n",
        "print(\"\\n\\nMEAN OF RESIDUALS:\",np.mean(abs(df2.Residual))) # Mean of residuals helps to understand how much on average the predicted values differ from the actual values "
      ],
      "execution_count": 0,
      "outputs": [
        {
          "output_type": "stream",
          "text": [
            "1055    1.028750\n",
            "1056    0.714130\n",
            "1057   -0.180255\n",
            "1058    0.936876\n",
            "1059    0.714130\n",
            "          ...   \n",
            "1594   -0.586723\n",
            "1595    0.037111\n",
            "1596    0.048784\n",
            "1597   -0.510745\n",
            "1598   -0.016766\n",
            "Name: Residual, Length: 544, dtype: float64\n",
            "\n",
            "\n",
            "MEAN OF RESIDUALS: 0.5088142425786994\n"
          ],
          "name": "stdout"
        }
      ]
    },
    {
      "cell_type": "code",
      "metadata": {
        "id": "Nb3zf-S34FGE",
        "colab_type": "code",
        "colab": {}
      },
      "source": [
        ""
      ],
      "execution_count": 0,
      "outputs": []
    }
  ]
}